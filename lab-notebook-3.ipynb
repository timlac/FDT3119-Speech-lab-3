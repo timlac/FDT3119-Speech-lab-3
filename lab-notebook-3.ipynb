{
 "cells": [
  {
   "cell_type": "code",
   "id": "initial_id",
   "metadata": {
    "collapsed": true,
    "ExecuteTime": {
     "end_time": "2025-05-08T08:09:27.614748Z",
     "start_time": "2025-05-08T08:09:27.093433Z"
    }
   },
   "source": [
    "import numpy as np\n",
    "import random\n",
    "import pickle\n",
    "\n",
    "from sklearn.preprocessing import StandardScaler"
   ],
   "outputs": [],
   "execution_count": 1
  },
  {
   "metadata": {
    "ExecuteTime": {
     "end_time": "2025-05-08T08:09:28.234889Z",
     "start_time": "2025-05-08T08:09:28.226444Z"
    }
   },
   "cell_type": "code",
   "source": [
    "from lab3_proto import words2phones\n",
    "from lab3_tools import path2info\n",
    "from prondict import prondict"
   ],
   "id": "fc21720d6ca303ba",
   "outputs": [],
   "execution_count": 2
  },
  {
   "metadata": {
    "ExecuteTime": {
     "end_time": "2025-05-08T05:59:41.349817Z",
     "start_time": "2025-05-08T05:59:40.558303Z"
    }
   },
   "cell_type": "code",
   "source": "all_train_data = np.load('data/traindata.npz', allow_pickle=True)['traindata']",
   "id": "ff9682b36eb4af06",
   "outputs": [],
   "execution_count": 3
  },
  {
   "metadata": {
    "ExecuteTime": {
     "end_time": "2025-05-08T08:09:32.533374Z",
     "start_time": "2025-05-08T08:09:31.762974Z"
    }
   },
   "cell_type": "code",
   "source": "test_data = np.load('data/testdata.npz', allow_pickle=True)['testdata']",
   "id": "52f20b89d020c3e6",
   "outputs": [],
   "execution_count": 3
  },
  {
   "metadata": {
    "ExecuteTime": {
     "end_time": "2025-05-08T05:59:42.381312Z",
     "start_time": "2025-05-08T05:59:42.376477Z"
    }
   },
   "cell_type": "code",
   "source": "len(all_train_data)",
   "id": "b5e9139398af7da8",
   "outputs": [
    {
     "data": {
      "text/plain": [
       "8623"
      ]
     },
     "execution_count": 5,
     "metadata": {},
     "output_type": "execute_result"
    }
   ],
   "execution_count": 5
  },
  {
   "metadata": {
    "ExecuteTime": {
     "end_time": "2025-05-08T08:09:36.651261Z",
     "start_time": "2025-05-08T08:09:36.646235Z"
    }
   },
   "cell_type": "code",
   "source": "len(test_data)",
   "id": "1485282514ea3511",
   "outputs": [
    {
     "data": {
      "text/plain": [
       "8700"
      ]
     },
     "execution_count": 4,
     "metadata": {},
     "output_type": "execute_result"
    }
   ],
   "execution_count": 4
  },
  {
   "metadata": {
    "ExecuteTime": {
     "end_time": "2025-05-08T08:21:14.293259Z",
     "start_time": "2025-05-08T08:21:14.290160Z"
    }
   },
   "cell_type": "code",
   "source": "len(test_data[2][\"targets\"])",
   "id": "71c5ea90d96d33c0",
   "outputs": [
    {
     "data": {
      "text/plain": [
       "265"
      ]
     },
     "execution_count": 18,
     "metadata": {},
     "output_type": "execute_result"
    }
   ],
   "execution_count": 18
  },
  {
   "metadata": {
    "ExecuteTime": {
     "end_time": "2025-05-08T08:11:27.192633Z",
     "start_time": "2025-05-08T08:11:27.185857Z"
    }
   },
   "cell_type": "code",
   "source": "test_data[0][\"targets\"]",
   "id": "560b460f6aa364c7",
   "outputs": [
    {
     "data": {
      "text/plain": [
       "[39,\n",
       " 40,\n",
       " 40,\n",
       " 40,\n",
       " 40,\n",
       " 40,\n",
       " 40,\n",
       " 40,\n",
       " 40,\n",
       " 40,\n",
       " 40,\n",
       " 40,\n",
       " 40,\n",
       " 41,\n",
       " 41,\n",
       " 41,\n",
       " 41,\n",
       " 41,\n",
       " 41,\n",
       " 41,\n",
       " 41,\n",
       " 41,\n",
       " 41,\n",
       " 41,\n",
       " 41,\n",
       " 41,\n",
       " 41,\n",
       " 41,\n",
       " 41,\n",
       " 41,\n",
       " 41,\n",
       " 41,\n",
       " 41,\n",
       " 41,\n",
       " 41,\n",
       " 41,\n",
       " 41,\n",
       " 41,\n",
       " 41,\n",
       " 41,\n",
       " 41,\n",
       " 41,\n",
       " 41,\n",
       " 41,\n",
       " 41,\n",
       " 41,\n",
       " 41,\n",
       " 41,\n",
       " 41,\n",
       " 41,\n",
       " 41,\n",
       " 41,\n",
       " 41,\n",
       " 41,\n",
       " 41,\n",
       " 41,\n",
       " 41,\n",
       " 41,\n",
       " 41,\n",
       " 30,\n",
       " 30,\n",
       " 30,\n",
       " 30,\n",
       " 30,\n",
       " 30,\n",
       " 30,\n",
       " 30,\n",
       " 30,\n",
       " 30,\n",
       " 30,\n",
       " 30,\n",
       " 30,\n",
       " 30,\n",
       " 30,\n",
       " 30,\n",
       " 30,\n",
       " 30,\n",
       " 30,\n",
       " 30,\n",
       " 30,\n",
       " 30,\n",
       " 30,\n",
       " 30,\n",
       " 31,\n",
       " 31,\n",
       " 31,\n",
       " 31,\n",
       " 31,\n",
       " 31,\n",
       " 32,\n",
       " 32,\n",
       " 32,\n",
       " 32,\n",
       " 32,\n",
       " 32,\n",
       " 46,\n",
       " 46,\n",
       " 46,\n",
       " 46,\n",
       " 46,\n",
       " 46,\n",
       " 46,\n",
       " 46,\n",
       " 46,\n",
       " 46,\n",
       " 46,\n",
       " 46,\n",
       " 46,\n",
       " 46,\n",
       " 46,\n",
       " 46,\n",
       " 47,\n",
       " 47,\n",
       " 47,\n",
       " 47,\n",
       " 48,\n",
       " 33,\n",
       " 33,\n",
       " 33,\n",
       " 33,\n",
       " 33,\n",
       " 33,\n",
       " 33,\n",
       " 33,\n",
       " 33,\n",
       " 33,\n",
       " 33,\n",
       " 34,\n",
       " 34,\n",
       " 35,\n",
       " 21,\n",
       " 21,\n",
       " 21,\n",
       " 22,\n",
       " 22,\n",
       " 22,\n",
       " 22,\n",
       " 22,\n",
       " 22,\n",
       " 22,\n",
       " 22,\n",
       " 22,\n",
       " 22,\n",
       " 22,\n",
       " 22,\n",
       " 22,\n",
       " 22,\n",
       " 22,\n",
       " 22,\n",
       " 22,\n",
       " 22,\n",
       " 22,\n",
       " 22,\n",
       " 22,\n",
       " 23,\n",
       " 23,\n",
       " 23,\n",
       " 23,\n",
       " 23,\n",
       " 23,\n",
       " 23,\n",
       " 30,\n",
       " 30,\n",
       " 30,\n",
       " 30,\n",
       " 30,\n",
       " 30,\n",
       " 30,\n",
       " 30,\n",
       " 30,\n",
       " 30,\n",
       " 30,\n",
       " 30,\n",
       " 30,\n",
       " 30,\n",
       " 30,\n",
       " 30,\n",
       " 30,\n",
       " 30,\n",
       " 30,\n",
       " 31,\n",
       " 31,\n",
       " 31,\n",
       " 31,\n",
       " 31,\n",
       " 31,\n",
       " 31,\n",
       " 31,\n",
       " 31,\n",
       " 31,\n",
       " 31,\n",
       " 32,\n",
       " 32,\n",
       " 32,\n",
       " 32,\n",
       " 32,\n",
       " 32,\n",
       " 32,\n",
       " 32,\n",
       " 32,\n",
       " 32,\n",
       " 32,\n",
       " 27,\n",
       " 28,\n",
       " 28,\n",
       " 28,\n",
       " 28,\n",
       " 28,\n",
       " 28,\n",
       " 28,\n",
       " 28,\n",
       " 28,\n",
       " 28,\n",
       " 28,\n",
       " 29,\n",
       " 6,\n",
       " 7,\n",
       " 8,\n",
       " 8,\n",
       " 8,\n",
       " 8,\n",
       " 8,\n",
       " 8,\n",
       " 8,\n",
       " 8,\n",
       " 8,\n",
       " 8,\n",
       " 8,\n",
       " 8,\n",
       " 8,\n",
       " 8,\n",
       " 8,\n",
       " 8,\n",
       " 8,\n",
       " 8,\n",
       " 8,\n",
       " 8,\n",
       " 8,\n",
       " 8,\n",
       " 8,\n",
       " 8,\n",
       " 8,\n",
       " 8,\n",
       " 8,\n",
       " 8,\n",
       " 8,\n",
       " 27,\n",
       " 28,\n",
       " 28,\n",
       " 28,\n",
       " 28,\n",
       " 28,\n",
       " 28,\n",
       " 29,\n",
       " 15,\n",
       " 15,\n",
       " 15,\n",
       " 15,\n",
       " 15,\n",
       " 15,\n",
       " 15,\n",
       " 15,\n",
       " 16,\n",
       " 16,\n",
       " 17,\n",
       " 6,\n",
       " 7,\n",
       " 7,\n",
       " 7,\n",
       " 7,\n",
       " 7,\n",
       " 7,\n",
       " 7,\n",
       " 7,\n",
       " 7,\n",
       " 7,\n",
       " 7,\n",
       " 7,\n",
       " 7,\n",
       " 7,\n",
       " 7,\n",
       " 7,\n",
       " 7,\n",
       " 7,\n",
       " 7,\n",
       " 7,\n",
       " 8,\n",
       " 8,\n",
       " 8,\n",
       " 8,\n",
       " 8,\n",
       " 8,\n",
       " 8,\n",
       " 8,\n",
       " 8,\n",
       " 52,\n",
       " 53,\n",
       " 54,\n",
       " 54,\n",
       " 54,\n",
       " 54,\n",
       " 54,\n",
       " 54,\n",
       " 54,\n",
       " 54,\n",
       " 54,\n",
       " 54,\n",
       " 42,\n",
       " 42,\n",
       " 42,\n",
       " 42,\n",
       " 42,\n",
       " 42,\n",
       " 42,\n",
       " 42,\n",
       " 42,\n",
       " 12,\n",
       " 12,\n",
       " 12,\n",
       " 12,\n",
       " 12,\n",
       " 12,\n",
       " 12,\n",
       " 12,\n",
       " 12,\n",
       " 13,\n",
       " 13,\n",
       " 13,\n",
       " 13,\n",
       " 13,\n",
       " 14,\n",
       " 14,\n",
       " 14,\n",
       " 14,\n",
       " 14,\n",
       " 14,\n",
       " 14,\n",
       " 14,\n",
       " 14,\n",
       " 14,\n",
       " 14,\n",
       " 14,\n",
       " 43,\n",
       " 43,\n",
       " 43,\n",
       " 43,\n",
       " 43,\n",
       " 44,\n",
       " 45,\n",
       " 36,\n",
       " 37,\n",
       " 37,\n",
       " 37,\n",
       " 37,\n",
       " 37,\n",
       " 37,\n",
       " 37,\n",
       " 37,\n",
       " 37,\n",
       " 37,\n",
       " 37,\n",
       " 37,\n",
       " 37,\n",
       " 37,\n",
       " 37,\n",
       " 38,\n",
       " 18,\n",
       " 19,\n",
       " 20,\n",
       " 20,\n",
       " 20,\n",
       " 20,\n",
       " 20,\n",
       " 20,\n",
       " 20,\n",
       " 20,\n",
       " 20,\n",
       " 20,\n",
       " 20,\n",
       " 20,\n",
       " 20,\n",
       " 20,\n",
       " 20,\n",
       " 20,\n",
       " 20,\n",
       " 20,\n",
       " 20,\n",
       " 20,\n",
       " 20,\n",
       " 20,\n",
       " 24,\n",
       " 24,\n",
       " 25,\n",
       " 25,\n",
       " 25,\n",
       " 25,\n",
       " 25,\n",
       " 25,\n",
       " 25,\n",
       " 25,\n",
       " 25,\n",
       " 26,\n",
       " 26,\n",
       " 36,\n",
       " 37,\n",
       " 37,\n",
       " 37,\n",
       " 37,\n",
       " 37,\n",
       " 37,\n",
       " 37,\n",
       " 37,\n",
       " 37,\n",
       " 37,\n",
       " 37,\n",
       " 37,\n",
       " 38,\n",
       " 38,\n",
       " 39,\n",
       " 39,\n",
       " 39,\n",
       " 39,\n",
       " 39,\n",
       " 39,\n",
       " 40,\n",
       " 40,\n",
       " 40,\n",
       " 40,\n",
       " 40,\n",
       " 40,\n",
       " 40,\n",
       " 40,\n",
       " 40,\n",
       " 40,\n",
       " 40,\n",
       " 40,\n",
       " 40,\n",
       " 40,\n",
       " 40,\n",
       " 40,\n",
       " 40,\n",
       " 40,\n",
       " 40,\n",
       " 40,\n",
       " 40,\n",
       " 40,\n",
       " 41]"
      ]
     },
     "execution_count": 16,
     "metadata": {},
     "output_type": "execute_result"
    }
   ],
   "execution_count": 16
  },
  {
   "metadata": {
    "ExecuteTime": {
     "end_time": "2025-05-08T08:11:11.481289Z",
     "start_time": "2025-05-08T08:11:11.477558Z"
    }
   },
   "cell_type": "code",
   "source": "len(test_data[0][\"lmfcc\"])",
   "id": "14a0ff7e4b37b0ec",
   "outputs": [
    {
     "data": {
      "text/plain": [
       "447"
      ]
     },
     "execution_count": 15,
     "metadata": {},
     "output_type": "execute_result"
    }
   ],
   "execution_count": 15
  },
  {
   "metadata": {
    "ExecuteTime": {
     "end_time": "2025-05-08T05:59:42.771594Z",
     "start_time": "2025-05-08T05:59:42.761271Z"
    }
   },
   "cell_type": "code",
   "source": [
    "with open('stateList.pkl', 'rb') as file:\n",
    "    stateList = pickle.load(file)"
   ],
   "id": "dfdc38d2ad5aaed9",
   "outputs": [],
   "execution_count": 7
  },
  {
   "metadata": {
    "ExecuteTime": {
     "end_time": "2025-05-08T05:59:42.970435Z",
     "start_time": "2025-05-08T05:59:42.967043Z"
    }
   },
   "cell_type": "code",
   "source": [
    "all_train_data[0].keys()\n",
    "all_train_data[0]['filename']"
   ],
   "id": "23fb75aee5a5add7",
   "outputs": [
    {
     "data": {
      "text/plain": [
       "'/home/tim/School/Speech_and_speaker_recognition/labs/tidigits/disc_4.1.1/tidigits/train/woman/es/o9275a.wav'"
      ]
     },
     "execution_count": 8,
     "metadata": {},
     "output_type": "execute_result"
    }
   ],
   "execution_count": 8
  },
  {
   "metadata": {},
   "cell_type": "markdown",
   "source": "### Inspect some samples",
   "id": "ca3aa753134607db"
  },
  {
   "metadata": {
    "ExecuteTime": {
     "end_time": "2025-05-08T05:59:43.177449Z",
     "start_time": "2025-05-08T05:59:43.174554Z"
    }
   },
   "cell_type": "code",
   "source": [
    "for _ in range(3):  # Show 3 random samples\n",
    "    sample = random.choice(all_train_data)\n",
    "    filename = sample['filename']\n",
    "    target_idxs = sample['targets']\n",
    "\n",
    "    # Decode target indices into state labels\n",
    "    decoded_states = [stateList[i] for i in target_idxs]\n",
    "\n",
    "    # Retrieve word and phone transcriptions\n",
    "    wordTrans = list(path2info(filename)[2])\n",
    "    phoneTrans = words2phones(wordTrans, prondict, addSilence=True, addShortPause=True)\n",
    "\n",
    "    print(f\"\\nFilename: {filename}\")\n",
    "    print(f\"Words   : {wordTrans}\")\n",
    "    print(f\"Phones  : {phoneTrans}\")\n",
    "    print(f\"States  : {decoded_states}\")  # Show start and end\n",
    "    print(f\"#States : {len(decoded_states)}\")"
   ],
   "id": "b47e645f209099b1",
   "outputs": [
    {
     "name": "stdout",
     "output_type": "stream",
     "text": [
      "\n",
      "Filename: /home/tim/School/Speech_and_speaker_recognition/labs/tidigits/disc_4.1.1/tidigits/train/man/mr/36512a.wav\n",
      "Words   : ['3', '6', '5', '1', '2']\n",
      "Phones  : ['sil', 'th', 'r', 'iy', 'sp', 's', 'ih', 'k', 's', 'sp', 'f', 'ay', 'v', 'sp', 'w', 'ah', 'n', 'sp', 't', 'uw', 'sp', 'sil']\n",
      "States  : ['sil_0', 'sil_0', 'sil_0', 'sil_0', 'sil_0', 'sil_0', 'sil_0', 'sil_0', 'sil_0', 'sil_0', 'sil_0', 'sil_0', 'sil_0', 'sil_0', 'sil_0', 'sil_0', 'sil_0', 'sil_0', 'sil_0', 'sil_0', 'sil_0', 'sil_0', 'sil_0', 'sil_0', 'sil_0', 'sil_0', 'sil_0', 'sil_0', 'sil_0', 'sil_0', 'sil_0', 'sil_0', 'sil_0', 'sil_0', 'sil_0', 'sil_0', 'sil_0', 'sil_0', 'sil_0', 'sil_0', 'sil_0', 'sil_1', 'sil_1', 'sil_1', 'sil_1', 'sil_1', 'sil_1', 'sil_2', 'sil_2', 'sil_2', 'sil_2', 'sil_2', 'sil_2', 'sil_2', 'th_0', 'th_0', 'th_1', 'th_1', 'th_1', 'th_1', 'th_1', 'th_2', 'r_0', 'r_0', 'r_0', 'r_0', 'r_0', 'r_1', 'r_2', 'iy_0', 'iy_0', 'iy_0', 'iy_0', 'iy_1', 'iy_1', 'iy_2', 's_0', 's_1', 's_2', 'ih_0', 'ih_0', 'ih_0', 'ih_0', 'ih_0', 'ih_0', 'ih_0', 'ih_1', 'ih_1', 'ih_2', 'ih_2', 'ih_2', 'ih_2', 'ih_2', 'ih_2', 'ih_2', 'ih_2', 'ih_2', 'k_0', 'k_0', 'k_0', 'k_0', 'k_1', 'k_1', 'k_2', 'k_2', 'k_2', 'k_2', 'k_2', 'k_2', 'k_2', 'k_2', 'k_2', 'k_2', 'k_2', 's_0', 's_0', 's_0', 's_1', 's_2', 'f_0', 'f_1', 'f_2', 'ay_0', 'ay_0', 'ay_0', 'ay_0', 'ay_0', 'ay_0', 'ay_0', 'ay_0', 'ay_0', 'ay_0', 'ay_0', 'ay_0', 'ay_0', 'ay_0', 'ay_0', 'ay_0', 'ay_0', 'ay_0', 'ay_1', 'ay_2', 'v_0', 'v_1', 'v_1', 'v_2', 'v_2', 'v_2', 'v_2', 'v_2', 'v_2', 'v_2', 'v_2', 'w_0', 'w_1', 'w_1', 'w_1', 'w_1', 'w_1', 'w_1', 'w_1', 'w_2', 'w_2', 'w_2', 'w_2', 'ah_0', 'ah_0', 'ah_0', 'ah_1', 'ah_2', 'n_0', 'n_1', 'n_1', 'n_1', 'n_1', 'n_1', 'n_1', 'n_2', 'n_2', 't_0', 't_0', 't_0', 't_0', 't_1', 't_1', 't_1', 't_1', 't_1', 't_1', 't_1', 't_2', 't_2', 't_2', 'uw_0', 'uw_1', 'uw_1', 'uw_1', 'uw_1', 'uw_1', 'uw_1', 'uw_1', 'uw_1', 'uw_1', 'uw_1', 'uw_1', 'uw_1', 'uw_1', 'uw_1', 'uw_1', 'uw_1', 'uw_1', 'uw_1', 'uw_1', 'uw_1', 'uw_1', 'uw_2', 'uw_2', 'uw_2', 'uw_2', 'uw_2', 'uw_2', 'uw_2', 'uw_2', 'uw_2', 'sil_0', 'sil_0', 'sil_0', 'sil_0', 'sil_0', 'sil_0', 'sil_0', 'sil_0', 'sil_0', 'sil_0', 'sil_0', 'sil_0', 'sil_0', 'sil_0', 'sil_0', 'sil_0', 'sil_0', 'sil_0', 'sil_1', 'sil_2']\n",
      "#States : 244\n",
      "\n",
      "Filename: /home/tim/School/Speech_and_speaker_recognition/labs/tidigits/disc_4.1.1/tidigits/train/woman/hp/8b.wav\n",
      "Words   : ['8']\n",
      "Phones  : ['sil', 'ey', 't', 'sp', 'sil']\n",
      "States  : ['sil_0', 'sil_1', 'sil_1', 'sil_1', 'sil_1', 'sil_1', 'sil_1', 'sil_1', 'sil_1', 'sil_1', 'sil_1', 'sil_1', 'sil_1', 'sil_1', 'sil_1', 'sil_1', 'sil_1', 'sil_1', 'sil_1', 'sil_1', 'sil_1', 'sil_1', 'sil_1', 'sil_1', 'sil_1', 'sil_1', 'sil_1', 'sil_1', 'sil_1', 'sil_1', 'sil_1', 'sil_1', 'sil_1', 'sil_2', 'ey_0', 'ey_1', 'ey_1', 'ey_1', 'ey_2', 'ey_2', 'ey_2', 'ey_2', 'ey_2', 'ey_2', 'ey_2', 'ey_2', 'ey_2', 'ey_2', 'ey_2', 'ey_2', 'ey_2', 'ey_2', 'ey_2', 't_0', 't_0', 't_0', 't_0', 't_0', 't_0', 't_0', 't_1', 't_1', 't_1', 't_1', 't_1', 't_1', 't_1', 't_1', 't_1', 't_1', 't_1', 't_1', 't_2', 'sil_0', 'sil_0', 'sil_0', 'sil_0', 'sil_0', 'sil_0', 'sil_0', 'sil_0', 'sil_0', 'sil_0', 'sil_0', 'sil_0', 'sil_0', 'sil_0', 'sil_0', 'sil_0', 'sil_0', 'sil_0', 'sil_0', 'sil_0', 'sil_0', 'sil_0', 'sil_0', 'sil_1', 'sil_2']\n",
      "#States : 98\n",
      "\n",
      "Filename: /home/tim/School/Speech_and_speaker_recognition/labs/tidigits/disc_4.1.1/tidigits/train/woman/ac/1o1a.wav\n",
      "Words   : ['1', 'o', '1']\n",
      "Phones  : ['sil', 'w', 'ah', 'n', 'sp', 'ow', 'sp', 'w', 'ah', 'n', 'sp', 'sil']\n",
      "States  : ['sil_0', 'sil_1', 'sil_1', 'sil_1', 'sil_1', 'sil_1', 'sil_1', 'sil_1', 'sil_1', 'sil_1', 'sil_1', 'sil_1', 'sil_1', 'sil_1', 'sil_2', 'sil_2', 'sil_2', 'sil_2', 'sil_2', 'sil_2', 'w_0', 'w_1', 'w_1', 'w_1', 'w_1', 'w_1', 'w_2', 'w_2', 'w_2', 'w_2', 'w_2', 'ah_0', 'ah_0', 'ah_0', 'ah_0', 'ah_0', 'ah_1', 'ah_1', 'ah_1', 'ah_1', 'ah_1', 'ah_1', 'ah_1', 'ah_1', 'ah_1', 'ah_1', 'ah_1', 'ah_1', 'ah_2', 'ah_2', 'n_0', 'n_1', 'n_2', 'sp_0', 'sp_0', 'ow_0', 'ow_1', 'ow_1', 'ow_1', 'ow_1', 'ow_1', 'ow_1', 'ow_1', 'ow_1', 'ow_1', 'ow_1', 'ow_1', 'ow_1', 'ow_1', 'ow_1', 'ow_1', 'ow_2', 'ow_2', 'ow_2', 'w_0', 'w_1', 'w_1', 'w_1', 'w_1', 'w_1', 'w_1', 'w_1', 'w_1', 'w_1', 'w_1', 'w_1', 'w_1', 'w_2', 'w_2', 'w_2', 'w_2', 'w_2', 'ah_0', 'ah_0', 'ah_0', 'ah_0', 'ah_0', 'ah_0', 'ah_0', 'ah_1', 'ah_1', 'ah_1', 'ah_1', 'ah_1', 'ah_2', 'ah_2', 'n_0', 'n_1', 'n_1', 'n_1', 'n_1', 'n_1', 'n_2', 'n_2', 'sil_0', 'sil_0', 'sil_0', 'sil_0', 'sil_0', 'sil_0', 'sil_0', 'sil_0', 'sil_0', 'sil_0', 'sil_0', 'sil_0', 'sil_0', 'sil_0', 'sil_1', 'sil_1', 'sil_1', 'sil_1', 'sil_1', 'sil_1', 'sil_1', 'sil_1', 'sil_1', 'sil_1', 'sil_1', 'sil_1', 'sil_2']\n",
      "#States : 141\n"
     ]
    }
   ],
   "execution_count": 9
  },
  {
   "metadata": {},
   "cell_type": "markdown",
   "source": "### 4.4 Training and Validation Sets",
   "id": "6bd3760dea8ae08f"
  },
  {
   "metadata": {
    "ExecuteTime": {
     "end_time": "2025-05-08T05:59:43.388980Z",
     "start_time": "2025-05-08T05:59:43.380340Z"
    }
   },
   "cell_type": "code",
   "source": [
    "import random\n",
    "from collections import defaultdict\n",
    "\n",
    "# Seed for reproducibility\n",
    "random.seed(42)\n",
    "\n",
    "# Build a mapping: speaker_id -> {'gender': ..., 'samples': [...]}\n",
    "speaker_data = defaultdict(lambda: {'gender': None, 'samples': []})\n",
    "\n",
    "for item in all_train_data:\n",
    "    path_parts = item['filename'].split('/')\n",
    "    gender = path_parts[-3]   # 'man' or 'woman'\n",
    "    speaker_id = path_parts[-2]  # e.g., 'es', 'gp' (speaker ID)\n",
    "\n",
    "    speaker_data[speaker_id]['gender'] = gender\n",
    "    speaker_data[speaker_id]['samples'].append(item)\n",
    "\n",
    "# Separate speaker IDs by gender\n",
    "male_speakers = [s for s, data in speaker_data.items() if data['gender'] == 'man']\n",
    "female_speakers = [s for s, data in speaker_data.items() if data['gender'] == 'woman']\n",
    "\n",
    "# Shuffle\n",
    "random.shuffle(male_speakers)\n",
    "random.shuffle(female_speakers)\n",
    "\n",
    "# Compute split points\n",
    "male_split = int(len(male_speakers) * 0.9)\n",
    "female_split = int(len(female_speakers) * 0.9)\n",
    "\n",
    "# Assign speakers to sets\n",
    "train_speakers = male_speakers[:male_split] + female_speakers[:female_split]\n",
    "val_speakers = male_speakers[male_split:] + female_speakers[female_split:]\n",
    "\n",
    "# Create data sets\n",
    "train_set = [item for s in train_speakers for item in speaker_data[s]['samples']]\n",
    "val_set = [item for s in val_speakers for item in speaker_data[s]['samples']]\n",
    "\n",
    "# Report\n",
    "def report(dataset, name):\n",
    "    men = sum(1 for x in dataset if '/man/' in x['filename'])\n",
    "    women = sum(1 for x in dataset if '/woman/' in x['filename'])\n",
    "    print(f\"{name}: {len(dataset)} samples — Men: {men}, Women: {women}\")\n",
    "\n",
    "report(train_set, \"Train set\")\n",
    "report(val_set, \"Validation set\")\n"
   ],
   "id": "5778cc5e8fcbba5e",
   "outputs": [
    {
     "name": "stdout",
     "output_type": "stream",
     "text": [
      "Train set: 7699 samples — Men: 3773, Women: 3926\n",
      "Validation set: 924 samples — Men: 462, Women: 462\n"
     ]
    }
   ],
   "execution_count": 10
  },
  {
   "metadata": {},
   "cell_type": "markdown",
   "source": "### 4.5 Acoustic Context (Dynamic Features)",
   "id": "93a5cfbfb7e6c818"
  },
  {
   "metadata": {
    "ExecuteTime": {
     "end_time": "2025-05-08T06:41:36.085918Z",
     "start_time": "2025-05-08T06:41:36.078246Z"
    }
   },
   "cell_type": "code",
   "source": [
    "def stack_features_with_mirroring(features, context=3):\n",
    "    T, D = features.shape\n",
    "    padded = np.concatenate([\n",
    "        features[context:0:-1],  # Mirror the first `context` frames\n",
    "        features,\n",
    "        features[-2:-context-2:-1]  # Mirror the last `context` frames\n",
    "    ], axis=0)\n",
    "\n",
    "    # Now extract stacked windows\n",
    "    stacked = []\n",
    "    for t in range(T):\n",
    "        window = padded[t : t + 2 * context + 1]  # 7 frames\n",
    "        stacked.append(window.flatten())\n",
    "    return np.stack(stacked)\n",
    "\n",
    "\n",
    "def add_dynamic_features(data):\n",
    "    for item in data:\n",
    "        item['lmfcc_dynamic'] = stack_features_with_mirroring(item['lmfcc'], context=3)\n",
    "        item['mspec_dynamic'] = stack_features_with_mirroring(item['mspec'], context=3)\n",
    "    return data\n"
   ],
   "id": "ac11447059c655ba",
   "outputs": [],
   "execution_count": 51
  },
  {
   "metadata": {},
   "cell_type": "markdown",
   "source": "### 4.6 Feature Standardization",
   "id": "eab1beea73a0364a"
  },
  {
   "metadata": {
    "ExecuteTime": {
     "end_time": "2025-05-08T06:49:23.514935Z",
     "start_time": "2025-05-08T06:49:23.509618Z"
    }
   },
   "cell_type": "code",
   "source": [
    "def flatten_dataset(dataset, feature_key='lmfcc'):\n",
    "    \"\"\"\n",
    "    Flattens a list of utterance-level dictionaries into a single feature matrix and target vector.\n",
    "\n",
    "    Returns:\n",
    "        - X: N × D feature matrix (e.g. stacked MFCCs or log-mel)\n",
    "        - y: N-dimensional array of state indices\n",
    "    \"\"\"\n",
    "    X_list = []\n",
    "    y_list = []\n",
    "\n",
    "    for utterance in dataset:\n",
    "        X_list.append(utterance[feature_key])   # or 'stacked_features' if you've applied 4.5\n",
    "        y_list.append(utterance['targets'])\n",
    "\n",
    "    X = np.vstack(X_list)\n",
    "    y = np.concatenate(y_list)\n",
    "\n",
    "    return X, y"
   ],
   "id": "b6b7ed7e92108dca",
   "outputs": [],
   "execution_count": 63
  },
  {
   "metadata": {
    "ExecuteTime": {
     "end_time": "2025-05-08T06:48:10.519220Z",
     "start_time": "2025-05-08T06:48:10.512972Z"
    }
   },
   "cell_type": "code",
   "source": [
    "def create_dataset(train_set, val_set, test_set, feature_key, save_path):\n",
    "    X_train, y_train = flatten_dataset(train_set, feature_key)\n",
    "    X_val, y_val = flatten_dataset(val_set, feature_key)\n",
    "    X_test, y_test = flatten_dataset(test_set, feature_key)\n",
    "\n",
    "    # Check the shapes\n",
    "    print(f\"X_train shape: {X_train.shape}, y_train shape: {y_train.shape}\")\n",
    "    print(f\"X_val shape: {X_val.shape}, y_val shape: {y_val.shape}\")\n",
    "    print(f\"X_test shape: {X_test.shape}, y_test shape: {y_test.shape}\")\n",
    "\n",
    "    # Standardize the features\n",
    "    scaler = StandardScaler()\n",
    "    X_train_scaled = scaler.fit_transform(X_train)\n",
    "    X_val_scaled = scaler.transform(X_val)\n",
    "    X_test_scaled = scaler.transform(X_test)\n",
    "\n",
    "    np.savez(save_path, X_train=X_train_scaled, y_train=y_train,\n",
    "         X_val=X_val_scaled, y_val=y_val, X_test=X_test_scaled, y_test=y_test)\n",
    "\n"
   ],
   "id": "5cd5c2021b3bb508",
   "outputs": [],
   "execution_count": 61
  },
  {
   "metadata": {
    "ExecuteTime": {
     "end_time": "2025-05-08T06:47:35.438781Z",
     "start_time": "2025-05-08T06:47:26.420016Z"
    }
   },
   "cell_type": "code",
   "source": [
    "train_set = add_dynamic_features(train_set)\n",
    "val_set = add_dynamic_features(val_set)\n",
    "test_data = add_dynamic_features(test_data)"
   ],
   "id": "48bbb24fc172bf4e",
   "outputs": [],
   "execution_count": 60
  },
  {
   "metadata": {
    "ExecuteTime": {
     "end_time": "2025-05-08T06:00:05.282292Z",
     "start_time": "2025-05-08T06:00:05.280332Z"
    }
   },
   "cell_type": "code",
   "source": "",
   "id": "56711c4e108090b0",
   "outputs": [],
   "execution_count": 15
  },
  {
   "metadata": {
    "ExecuteTime": {
     "end_time": "2025-05-08T06:49:55.964706Z",
     "start_time": "2025-05-08T06:49:37.648190Z"
    }
   },
   "cell_type": "code",
   "source": [
    "create_dataset(train_set, val_set, test_data, feature_key='lmfcc_dynamic', save_path='data/preprocessed/lmfcc_dynamic_standard.npz')\n",
    "create_dataset(train_set, val_set, test_data, feature_key='mspec_dynamic', save_path='data/preprocessed/mspec_dynamic_standard.npz')"
   ],
   "id": "25e7d9dedf6b49ed",
   "outputs": [
    {
     "name": "stdout",
     "output_type": "stream",
     "text": [
      "X_train shape: (1340795, 91), y_train shape: (1340795,)\n",
      "X_val shape: (166597, 91), y_val shape: (166597,)\n",
      "X_test shape: (1527014, 91), y_test shape: (1527014,)\n",
      "X_train shape: (1340795, 280), y_train shape: (1340795,)\n",
      "X_val shape: (166597, 280), y_val shape: (166597,)\n",
      "X_test shape: (1527014, 280), y_test shape: (1527014,)\n"
     ]
    }
   ],
   "execution_count": 64
  }
 ],
 "metadata": {
  "kernelspec": {
   "display_name": "Python 3",
   "language": "python",
   "name": "python3"
  },
  "language_info": {
   "codemirror_mode": {
    "name": "ipython",
    "version": 2
   },
   "file_extension": ".py",
   "mimetype": "text/x-python",
   "name": "python",
   "nbconvert_exporter": "python",
   "pygments_lexer": "ipython2",
   "version": "2.7.6"
  }
 },
 "nbformat": 4,
 "nbformat_minor": 5
}
