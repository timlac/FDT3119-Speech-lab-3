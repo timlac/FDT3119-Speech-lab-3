{
 "cells": [
  {
   "cell_type": "code",
   "id": "initial_id",
   "metadata": {
    "collapsed": true,
    "ExecuteTime": {
     "end_time": "2025-05-07T12:55:00.569721Z",
     "start_time": "2025-05-07T12:55:00.003239Z"
    }
   },
   "source": [
    "import numpy as np\n",
    "import random\n",
    "import pickle\n",
    "\n",
    "from sklearn.preprocessing import StandardScaler"
   ],
   "outputs": [],
   "execution_count": 26
  },
  {
   "metadata": {
    "ExecuteTime": {
     "end_time": "2025-05-07T12:01:17.150452Z",
     "start_time": "2025-05-07T12:01:17.148770Z"
    }
   },
   "cell_type": "code",
   "source": [
    "from lab3_proto import words2phones\n",
    "from lab3_tools import path2info\n",
    "from prondict import prondict"
   ],
   "id": "fc21720d6ca303ba",
   "outputs": [],
   "execution_count": 6
  },
  {
   "metadata": {
    "ExecuteTime": {
     "end_time": "2025-05-07T12:01:17.864048Z",
     "start_time": "2025-05-07T12:01:17.295437Z"
    }
   },
   "cell_type": "code",
   "source": "all_train_data = np.load('data/traindata.npz', allow_pickle=True)['traindata']",
   "id": "ff9682b36eb4af06",
   "outputs": [],
   "execution_count": 7
  },
  {
   "metadata": {
    "ExecuteTime": {
     "end_time": "2025-05-07T12:01:18.629860Z",
     "start_time": "2025-05-07T12:01:17.961907Z"
    }
   },
   "cell_type": "code",
   "source": "test_data = np.load('data/testdata.npz', allow_pickle=True)['testdata']",
   "id": "52f20b89d020c3e6",
   "outputs": [],
   "execution_count": 8
  },
  {
   "metadata": {
    "ExecuteTime": {
     "end_time": "2025-05-07T12:01:18.800090Z",
     "start_time": "2025-05-07T12:01:18.796099Z"
    }
   },
   "cell_type": "code",
   "source": "len(all_train_data)",
   "id": "b5e9139398af7da8",
   "outputs": [
    {
     "data": {
      "text/plain": [
       "8623"
      ]
     },
     "execution_count": 9,
     "metadata": {},
     "output_type": "execute_result"
    }
   ],
   "execution_count": 9
  },
  {
   "metadata": {
    "ExecuteTime": {
     "end_time": "2025-05-07T12:01:25.806570Z",
     "start_time": "2025-05-07T12:01:25.803015Z"
    }
   },
   "cell_type": "code",
   "source": "len(test_data)",
   "id": "1485282514ea3511",
   "outputs": [
    {
     "data": {
      "text/plain": [
       "8700"
      ]
     },
     "execution_count": 14,
     "metadata": {},
     "output_type": "execute_result"
    }
   ],
   "execution_count": 14
  },
  {
   "metadata": {
    "ExecuteTime": {
     "end_time": "2025-05-07T12:01:19.005053Z",
     "start_time": "2025-05-07T12:01:19.002971Z"
    }
   },
   "cell_type": "code",
   "source": [
    "with open('stateList.pkl', 'rb') as file:\n",
    "    stateList = pickle.load(file)"
   ],
   "id": "dfdc38d2ad5aaed9",
   "outputs": [],
   "execution_count": 10
  },
  {
   "metadata": {
    "ExecuteTime": {
     "end_time": "2025-05-07T12:01:19.221764Z",
     "start_time": "2025-05-07T12:01:19.218943Z"
    }
   },
   "cell_type": "code",
   "source": [
    "all_train_data[0].keys()\n",
    "all_train_data[0]['filename']"
   ],
   "id": "23fb75aee5a5add7",
   "outputs": [
    {
     "data": {
      "text/plain": [
       "'/home/tim/School/Speech_and_speaker_recognition/labs/tidigits/disc_4.1.1/tidigits/train/woman/es/o9275a.wav'"
      ]
     },
     "execution_count": 11,
     "metadata": {},
     "output_type": "execute_result"
    }
   ],
   "execution_count": 11
  },
  {
   "metadata": {},
   "cell_type": "markdown",
   "source": "### Inspect some samples",
   "id": "ca3aa753134607db"
  },
  {
   "metadata": {
    "ExecuteTime": {
     "end_time": "2025-05-07T12:01:19.431498Z",
     "start_time": "2025-05-07T12:01:19.428479Z"
    }
   },
   "cell_type": "code",
   "source": [
    "for _ in range(3):  # Show 3 random samples\n",
    "    sample = random.choice(all_train_data)\n",
    "    filename = sample['filename']\n",
    "    target_idxs = sample['targets']\n",
    "\n",
    "    # Decode target indices into state labels\n",
    "    decoded_states = [stateList[i] for i in target_idxs]\n",
    "\n",
    "    # Retrieve word and phone transcriptions\n",
    "    wordTrans = list(path2info(filename)[2])\n",
    "    phoneTrans = words2phones(wordTrans, prondict, addSilence=True, addShortPause=True)\n",
    "\n",
    "    print(f\"\\nFilename: {filename}\")\n",
    "    print(f\"Words   : {wordTrans}\")\n",
    "    print(f\"Phones  : {phoneTrans}\")\n",
    "    print(f\"States  : {decoded_states}\")  # Show start and end\n",
    "    print(f\"#States : {len(decoded_states)}\")"
   ],
   "id": "b47e645f209099b1",
   "outputs": [
    {
     "name": "stdout",
     "output_type": "stream",
     "text": [
      "\n",
      "Filename: /home/tim/School/Speech_and_speaker_recognition/labs/tidigits/disc_4.1.1/tidigits/train/man/ne/7o78523a.wav\n",
      "Words   : ['7', 'o', '7', '8', '5', '2', '3']\n",
      "Phones  : ['sil', 's', 'eh', 'v', 'ah', 'n', 'sp', 'ow', 'sp', 's', 'eh', 'v', 'ah', 'n', 'sp', 'ey', 't', 'sp', 'f', 'ay', 'v', 'sp', 't', 'uw', 'sp', 'th', 'r', 'iy', 'sp', 'sil']\n",
      "States  : ['sil_0', 'sil_0', 'sil_0', 'sil_0', 'sil_0', 'sil_0', 'sil_0', 'sil_0', 'sil_0', 'sil_1', 'sil_1', 'sil_1', 'sil_1', 'sil_1', 'sil_1', 'sil_1', 'sil_1', 'sil_1', 'sil_1', 'sil_1', 'sil_2', 'sil_2', 's_0', 's_0', 's_0', 's_1', 's_2', 'eh_0', 'eh_0', 'eh_0', 'eh_0', 'eh_0', 'eh_0', 'eh_0', 'eh_1', 'eh_2', 'eh_2', 'eh_2', 'eh_2', 'eh_2', 'eh_2', 'v_0', 'v_1', 'v_1', 'v_2', 'ah_0', 'ah_0', 'ah_0', 'ah_0', 'ah_1', 'ah_1', 'ah_2', 'n_0', 'n_1', 'n_2', 'ow_0', 'ow_0', 'ow_0', 'ow_0', 'ow_0', 'ow_1', 'ow_1', 'ow_1', 'ow_1', 'ow_1', 'ow_1', 'ow_1', 'ow_2', 's_0', 's_0', 's_0', 's_0', 's_1', 's_2', 'eh_0', 'eh_0', 'eh_0', 'eh_0', 'eh_0', 'eh_0', 'eh_0', 'eh_1', 'eh_2', 'eh_2', 'eh_2', 'eh_2', 'eh_2', 'eh_2', 'eh_2', 'eh_2', 'eh_2', 'v_0', 'v_1', 'v_1', 'v_2', 'ah_0', 'ah_0', 'ah_0', 'ah_0', 'ah_1', 'ah_1', 'ah_1', 'ah_1', 'ah_2', 'ah_2', 'ah_2', 'ah_2', 'ah_2', 'ah_2', 'n_0', 'n_1', 'n_1', 'n_1', 'n_1', 'n_1', 'n_2', 'n_2', 'n_2', 'n_2', 'n_2', 'n_2', 'n_2', 'n_2', 'n_2', 'n_2', 'n_2', 'n_2', 'n_2', 'n_2', 'n_2', 'sp_0', 'sp_0', 'sp_0', 'sp_0', 'sp_0', 'sp_0', 'sp_0', 'sp_0', 'sp_0', 'sp_0', 'ey_0', 'ey_0', 'ey_0', 'ey_1', 'ey_1', 'ey_1', 'ey_1', 'ey_1', 'ey_2', 'ey_2', 'ey_2', 'ey_2', 'ey_2', 'ey_2', 'ey_2', 't_0', 't_0', 't_0', 't_1', 't_1', 't_2', 'f_0', 'f_0', 'f_0', 'f_0', 'f_0', 'f_0', 'f_0', 'f_1', 'f_2', 'ay_0', 'ay_0', 'ay_0', 'ay_0', 'ay_0', 'ay_0', 'ay_0', 'ay_0', 'ay_1', 'ay_1', 'ay_1', 'ay_1', 'ay_1', 'ay_1', 'ay_1', 'ay_1', 'ay_1', 'ay_2', 'v_0', 'v_0', 'v_0', 'v_0', 'v_1', 'v_2', 'v_2', 'v_2', 'v_2', 'sp_0', 'sp_0', 'sp_0', 'sp_0', 'sp_0', 't_0', 't_1', 't_1', 't_1', 't_1', 't_1', 't_2', 'uw_0', 'uw_0', 'uw_0', 'uw_0', 'uw_0', 'uw_0', 'uw_0', 'uw_1', 'uw_1', 'uw_1', 'uw_2', 'uw_2', 'th_0', 'th_0', 'th_0', 'th_0', 'th_0', 'th_0', 'th_1', 'th_1', 'th_1', 'th_1', 'th_1', 'th_2', 'th_2', 'th_2', 'th_2', 'th_2', 'r_0', 'r_0', 'r_0', 'r_0', 'r_0', 'r_1', 'r_1', 'r_1', 'r_2', 'iy_0', 'iy_0', 'iy_0', 'iy_0', 'iy_0', 'iy_0', 'iy_1', 'iy_1', 'iy_1', 'iy_1', 'iy_1', 'iy_1', 'iy_1', 'iy_1', 'iy_1', 'iy_1', 'iy_2', 'iy_2', 'iy_2', 'iy_2', 'iy_2', 'iy_2', 'sil_0', 'sil_0', 'sil_0', 'sil_0', 'sil_0', 'sil_0', 'sil_0', 'sil_0', 'sil_0', 'sil_0', 'sil_0', 'sil_0', 'sil_0', 'sil_0', 'sil_0', 'sil_0', 'sil_0', 'sil_0', 'sil_0', 'sil_0', 'sil_1', 'sil_2']\n",
      "#States : 290\n",
      "\n",
      "Filename: /home/tim/School/Speech_and_speaker_recognition/labs/tidigits/disc_4.1.1/tidigits/train/woman/ng/5961368a.wav\n",
      "Words   : ['5', '9', '6', '1', '3', '6', '8']\n",
      "Phones  : ['sil', 'f', 'ay', 'v', 'sp', 'n', 'ay', 'n', 'sp', 's', 'ih', 'k', 's', 'sp', 'w', 'ah', 'n', 'sp', 'th', 'r', 'iy', 'sp', 's', 'ih', 'k', 's', 'sp', 'ey', 't', 'sp', 'sil']\n",
      "States  : ['sil_0', 'sil_1', 'sil_2', 'sil_2', 'sil_2', 'sil_2', 'sil_2', 'sil_2', 'sil_2', 'sil_2', 'sil_2', 'sil_2', 'sil_2', 'sil_2', 'sil_2', 'sil_2', 'sil_2', 'sil_2', 'sil_2', 'sil_2', 'sil_2', 'sil_2', 'sil_2', 'sil_2', 'sil_2', 'f_0', 'f_0', 'f_0', 'f_0', 'f_0', 'f_0', 'f_0', 'f_0', 'f_0', 'f_0', 'f_0', 'f_0', 'f_0', 'f_0', 'f_0', 'f_0', 'f_0', 'f_0', 'f_0', 'f_0', 'f_0', 'f_0', 'f_0', 'f_0', 'f_0', 'f_0', 'f_0', 'f_0', 'f_0', 'f_0', 'f_0', 'f_0', 'f_0', 'f_1', 'f_1', 'f_1', 'f_2', 'f_2', 'ay_0', 'ay_0', 'ay_0', 'ay_0', 'ay_0', 'ay_0', 'ay_0', 'ay_1', 'ay_2', 'v_0', 'v_0', 'v_0', 'v_1', 'v_1', 'v_2', 'n_0', 'n_1', 'n_1', 'n_1', 'n_1', 'n_1', 'n_1', 'n_1', 'n_1', 'n_2', 'ay_0', 'ay_1', 'ay_2', 'ay_2', 'ay_2', 'ay_2', 'ay_2', 'ay_2', 'ay_2', 'ay_2', 'ay_2', 'n_0', 'n_0', 'n_0', 'n_1', 'n_1', 'n_1', 'n_1', 'n_2', 's_0', 's_1', 's_1', 's_1', 's_1', 's_1', 's_1', 's_1', 's_2', 'ih_0', 'ih_1', 'ih_1', 'ih_1', 'ih_2', 'ih_2', 'ih_2', 'ih_2', 'ih_2', 'ih_2', 'ih_2', 'k_0', 'k_0', 'k_1', 'k_1', 'k_1', 'k_2', 'k_2', 'k_2', 'k_2', 'k_2', 'k_2', 'k_2', 'k_2', 'k_2', 's_0', 's_1', 's_2', 'w_0', 'w_1', 'w_1', 'w_1', 'w_1', 'w_1', 'w_1', 'w_1', 'w_1', 'w_2', 'ah_0', 'ah_1', 'ah_1', 'ah_1', 'ah_2', 'n_0', 'n_1', 'n_1', 'n_1', 'n_1', 'n_2', 'th_0', 'th_1', 'th_1', 'th_1', 'th_1', 'th_1', 'th_1', 'th_1', 'th_1', 'th_1', 'th_2', 'th_2', 'r_0', 'r_1', 'r_2', 'iy_0', 'iy_0', 'iy_1', 'iy_1', 'iy_1', 'iy_1', 'iy_1', 'iy_1', 'iy_2', 's_0', 's_1', 's_2', 'ih_0', 'ih_0', 'ih_0', 'ih_0', 'ih_0', 'ih_0', 'ih_1', 'ih_1', 'ih_2', 'ih_2', 'ih_2', 'ih_2', 'ih_2', 'k_0', 'k_0', 'k_1', 'k_1', 'k_1', 'k_1', 'k_2', 'k_2', 'k_2', 'k_2', 'k_2', 's_0', 's_1', 's_2', 'ey_0', 'ey_0', 'ey_0', 'ey_1', 'ey_1', 'ey_1', 'ey_1', 'ey_1', 'ey_1', 'ey_1', 'ey_1', 'ey_1', 'ey_2', 'ey_2', 'ey_2', 't_0', 't_0', 't_1', 't_2', 'sil_0', 'sil_0', 'sil_0', 'sil_0', 'sil_0', 'sil_0', 'sil_0', 'sil_1', 'sil_1', 'sil_1', 'sil_1', 'sil_1', 'sil_1', 'sil_1', 'sil_1', 'sil_1', 'sil_1', 'sil_1', 'sil_1', 'sil_1', 'sil_1', 'sil_1', 'sil_1', 'sil_1', 'sil_1', 'sil_1', 'sil_1', 'sil_2']\n",
      "#States : 266\n",
      "\n",
      "Filename: /home/tim/School/Speech_and_speaker_recognition/labs/tidigits/disc_4.1.1/tidigits/train/man/kp/9a.wav\n",
      "Words   : ['9']\n",
      "Phones  : ['sil', 'n', 'ay', 'n', 'sp', 'sil']\n",
      "States  : ['sil_0', 'sil_1', 'sil_1', 'sil_1', 'sil_1', 'sil_1', 'sil_1', 'sil_1', 'sil_1', 'sil_1', 'sil_1', 'sil_1', 'sil_1', 'sil_1', 'sil_1', 'sil_1', 'sil_1', 'sil_1', 'sil_1', 'sil_1', 'sil_2', 'sil_2', 'sil_2', 'sil_2', 'sil_2', 'sil_2', 'sil_2', 'sil_2', 'sil_2', 'n_0', 'n_1', 'n_1', 'n_1', 'n_1', 'n_1', 'n_2', 'ay_0', 'ay_0', 'ay_0', 'ay_0', 'ay_0', 'ay_0', 'ay_0', 'ay_0', 'ay_0', 'ay_0', 'ay_0', 'ay_0', 'ay_1', 'ay_1', 'ay_2', 'ay_2', 'ay_2', 'ay_2', 'ay_2', 'ay_2', 'ay_2', 'ay_2', 'ay_2', 'ay_2', 'ay_2', 'ay_2', 'n_0', 'n_1', 'n_1', 'n_1', 'n_1', 'n_1', 'n_1', 'n_2', 'n_2', 'n_2', 'sil_0', 'sil_0', 'sil_0', 'sil_0', 'sil_0', 'sil_0', 'sil_0', 'sil_0', 'sil_0', 'sil_0', 'sil_0', 'sil_0', 'sil_0', 'sil_0', 'sil_0', 'sil_0', 'sil_0', 'sil_0', 'sil_1', 'sil_2', 'sil_2', 'sil_2', 'sil_2', 'sil_2']\n",
      "#States : 96\n"
     ]
    }
   ],
   "execution_count": 12
  },
  {
   "metadata": {},
   "cell_type": "markdown",
   "source": "### 4.4 Training and Validation Sets",
   "id": "6bd3760dea8ae08f"
  },
  {
   "metadata": {
    "ExecuteTime": {
     "end_time": "2025-05-07T12:01:19.654682Z",
     "start_time": "2025-05-07T12:01:19.644554Z"
    }
   },
   "cell_type": "code",
   "source": [
    "import random\n",
    "from collections import defaultdict\n",
    "\n",
    "# Seed for reproducibility\n",
    "random.seed(42)\n",
    "\n",
    "# Build a mapping: speaker_id -> {'gender': ..., 'samples': [...]}\n",
    "speaker_data = defaultdict(lambda: {'gender': None, 'samples': []})\n",
    "\n",
    "for item in all_train_data:\n",
    "    path_parts = item['filename'].split('/')\n",
    "    gender = path_parts[-3]   # 'man' or 'woman'\n",
    "    speaker_id = path_parts[-2]  # e.g., 'es', 'gp' (speaker ID)\n",
    "\n",
    "    speaker_data[speaker_id]['gender'] = gender\n",
    "    speaker_data[speaker_id]['samples'].append(item)\n",
    "\n",
    "# Separate speaker IDs by gender\n",
    "male_speakers = [s for s, data in speaker_data.items() if data['gender'] == 'man']\n",
    "female_speakers = [s for s, data in speaker_data.items() if data['gender'] == 'woman']\n",
    "\n",
    "# Shuffle\n",
    "random.shuffle(male_speakers)\n",
    "random.shuffle(female_speakers)\n",
    "\n",
    "# Compute split points\n",
    "male_split = int(len(male_speakers) * 0.9)\n",
    "female_split = int(len(female_speakers) * 0.9)\n",
    "\n",
    "# Assign speakers to sets\n",
    "train_speakers = male_speakers[:male_split] + female_speakers[:female_split]\n",
    "val_speakers = male_speakers[male_split:] + female_speakers[female_split:]\n",
    "\n",
    "# Create data sets\n",
    "train_set = [item for s in train_speakers for item in speaker_data[s]['samples']]\n",
    "val_set = [item for s in val_speakers for item in speaker_data[s]['samples']]\n",
    "\n",
    "# Report\n",
    "def report(dataset, name):\n",
    "    men = sum(1 for x in dataset if '/man/' in x['filename'])\n",
    "    women = sum(1 for x in dataset if '/woman/' in x['filename'])\n",
    "    print(f\"{name}: {len(dataset)} samples — Men: {men}, Women: {women}\")\n",
    "\n",
    "report(train_set, \"Train set\")\n",
    "report(val_set, \"Validation set\")\n"
   ],
   "id": "5778cc5e8fcbba5e",
   "outputs": [
    {
     "name": "stdout",
     "output_type": "stream",
     "text": [
      "Train set: 7699 samples — Men: 3773, Women: 3926\n",
      "Validation set: 924 samples — Men: 462, Women: 462\n"
     ]
    }
   ],
   "execution_count": 13
  },
  {
   "metadata": {},
   "cell_type": "markdown",
   "source": "### 4.5 Acoustic Context (Dynamic Features)",
   "id": "93a5cfbfb7e6c818"
  },
  {
   "metadata": {
    "ExecuteTime": {
     "end_time": "2025-05-07T12:34:53.043938Z",
     "start_time": "2025-05-07T12:34:53.038407Z"
    }
   },
   "cell_type": "code",
   "source": [
    "def stack_context_features(feats, context_size=3):\n",
    "    \"\"\"\n",
    "    Stacks context_size*2 + 1 frames around each frame, using mirroring at boundaries.\n",
    "\n",
    "    Args:\n",
    "        feats: NxD array of feature vectors (N time steps, D features)\n",
    "        context_size: Number of frames to include before and after the current frame\n",
    "\n",
    "    Returns:\n",
    "        Nx(D*(2*context_size+1)) array of stacked features\n",
    "    \"\"\"\n",
    "    N, D = feats.shape\n",
    "    padded = np.pad(feats, ((context_size, context_size), (0, 0)), mode='reflect')\n",
    "    stacked = np.zeros((N, D * (2 * context_size + 1)))\n",
    "\n",
    "    for i in range(N):\n",
    "        context_window = padded[i:i + 2 * context_size + 1].reshape(-1)\n",
    "        stacked[i] = context_window\n",
    "\n",
    "    return stacked\n",
    "\n",
    "def add_dynamic_features(data):\n",
    "    for item in data:\n",
    "        item['lmfcc_dynamic'] = stack_context_features(item['lmfcc'], context_size=3)\n",
    "        item['mspec_dynamic'] = stack_context_features(item['mspec'], context_size=3)"
   ],
   "id": "ac11447059c655ba",
   "outputs": [],
   "execution_count": 20
  },
  {
   "metadata": {},
   "cell_type": "markdown",
   "source": "### 4.6 Feature Standardization",
   "id": "eab1beea73a0364a"
  },
  {
   "metadata": {
    "ExecuteTime": {
     "end_time": "2025-05-07T12:52:00.080305Z",
     "start_time": "2025-05-07T12:52:00.075714Z"
    }
   },
   "cell_type": "code",
   "source": [
    "def flatten_dataset(dataset, feature_key='lmfcc'):\n",
    "    \"\"\"\n",
    "    Flattens a list of utterance-level dictionaries into a single feature matrix and target vector.\n",
    "\n",
    "    Returns:\n",
    "        - X: N × D feature matrix (e.g. stacked MFCCs or log-mel)\n",
    "        - y: N-dimensional array of state indices\n",
    "    \"\"\"\n",
    "    X_list = []\n",
    "    y_list = []\n",
    "\n",
    "    for utterance in dataset:\n",
    "        X_list.append(utterance['lmfcc'])   # or 'stacked_features' if you've applied 4.5\n",
    "        y_list.append(utterance['targets'])\n",
    "\n",
    "    X = np.vstack(X_list)\n",
    "    y = np.concatenate(y_list)\n",
    "\n",
    "    return X, y"
   ],
   "id": "b6b7ed7e92108dca",
   "outputs": [],
   "execution_count": 22
  },
  {
   "metadata": {
    "ExecuteTime": {
     "end_time": "2025-05-07T12:52:07.807068Z",
     "start_time": "2025-05-07T12:52:07.664710Z"
    }
   },
   "cell_type": "code",
   "source": [
    "X_train, y_train = flatten_dataset(train_set)\n",
    "X_val, y_val = flatten_dataset(val_set)\n",
    "X_test, y_test = flatten_dataset(test_data)"
   ],
   "id": "d1953af541214555",
   "outputs": [],
   "execution_count": 23
  },
  {
   "metadata": {
    "ExecuteTime": {
     "end_time": "2025-05-07T12:52:15.494917Z",
     "start_time": "2025-05-07T12:52:15.491583Z"
    }
   },
   "cell_type": "code",
   "source": [
    "print(f\"Train set shape: {X_train.shape}, Targets shape: {y_train.shape}\")\n",
    "print(f\"Validation set shape: {X_val.shape}, Targets shape: {y_val.shape}\")\n",
    "print(f\"Test set shape: {X_test.shape}, Targets shape: {y_test.shape}\")"
   ],
   "id": "c769f86f822a0503",
   "outputs": [
    {
     "name": "stdout",
     "output_type": "stream",
     "text": [
      "Train set shape: (1340795, 13), Targets shape: (1340795,)\n",
      "Validation set shape: (166597, 13), Targets shape: (166597,)\n",
      "Test set shape: (1527014, 13), Targets shape: (1527014,)\n"
     ]
    }
   ],
   "execution_count": 24
  },
  {
   "metadata": {
    "ExecuteTime": {
     "end_time": "2025-05-07T12:55:08.618700Z",
     "start_time": "2025-05-07T12:55:08.336384Z"
    }
   },
   "cell_type": "code",
   "source": [
    "# Standardize the features\n",
    "scaler = StandardScaler()\n",
    "X_train_scaled = scaler.fit_transform(X_train)\n",
    "X_val_scaled = scaler.transform(X_val)\n",
    "X_test_scaled = scaler.transform(X_test)"
   ],
   "id": "726c3463df8c420d",
   "outputs": [],
   "execution_count": 27
  },
  {
   "metadata": {
    "ExecuteTime": {
     "end_time": "2025-05-07T12:59:21.057158Z",
     "start_time": "2025-05-07T12:59:20.881803Z"
    }
   },
   "cell_type": "code",
   "source": [
    "# save dataset to file\n",
    "np.savez('data/preprocessed/lmfcc_standard.npz', X_train=X_train_scaled, y_train=y_train,\n",
    "         X_val=X_val_scaled, y_val=y_val, X_test=X_test_scaled, y_test=y_test)"
   ],
   "id": "7a209365d8738b82",
   "outputs": [],
   "execution_count": 28
  }
 ],
 "metadata": {
  "kernelspec": {
   "display_name": "Python 3",
   "language": "python",
   "name": "python3"
  },
  "language_info": {
   "codemirror_mode": {
    "name": "ipython",
    "version": 2
   },
   "file_extension": ".py",
   "mimetype": "text/x-python",
   "name": "python",
   "nbconvert_exporter": "python",
   "pygments_lexer": "ipython2",
   "version": "2.7.6"
  }
 },
 "nbformat": 4,
 "nbformat_minor": 5
}
