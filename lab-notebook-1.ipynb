{
 "cells": [
  {
   "cell_type": "code",
   "id": "a02dad11dcb43a1",
   "metadata": {
    "ExecuteTime": {
     "end_time": "2025-05-06T09:57:10.492116Z",
     "start_time": "2025-05-06T09:57:09.984844Z"
    }
   },
   "source": [
    "import matplotlib.pyplot as plt\n",
    "import numpy as np\n",
    "import os\n",
    "\n",
    "from lab3_tools import loadAudio, path2info\n",
    "from lab3_proto import words2phones, forcedAlignment\n",
    "\n",
    "from lab_1_proto import mfcc\n",
    "\n",
    "from prondict import prondict\n",
    "from lab2_proto import concatHMMs"
   ],
   "outputs": [],
   "execution_count": 1
  },
  {
   "cell_type": "code",
   "id": "9d1cc9be218c3580",
   "metadata": {
    "ExecuteTime": {
     "end_time": "2025-05-06T09:57:10.576434Z",
     "start_time": "2025-05-06T09:57:10.574480Z"
    }
   },
   "source": [
    "tidigits_path = \"/home/tim/School/Speech_and_speaker_recognition/labs/tidigits/\""
   ],
   "outputs": [],
   "execution_count": 2
  },
  {
   "metadata": {
    "ExecuteTime": {
     "end_time": "2025-05-06T09:57:10.627745Z",
     "start_time": "2025-05-06T09:57:10.624533Z"
    }
   },
   "cell_type": "code",
   "source": [
    "def my_frames2trans(symbols, outfilename, frameshift=0.01):\n",
    "    \"\"\"Writes a tab-separated .lab file for Audacity label track import.\"\"\"\n",
    "    with open(outfilename, 'w') as f:\n",
    "        prev_label = symbols[0]\n",
    "        start = 0\n",
    "        for i, label in enumerate(symbols + ['<END>']):\n",
    "            if label != prev_label:\n",
    "                start_time = start * frameshift\n",
    "                end_time = i * frameshift\n",
    "                f.write(f\"{start_time:.6f}\\t{end_time:.6f}\\t{prev_label}\\n\")\n",
    "                start = i\n",
    "                prev_label = label"
   ],
   "id": "ebffe3fa9848f3db",
   "outputs": [],
   "execution_count": 3
  },
  {
   "cell_type": "markdown",
   "id": "65d81a6ba5b2ce5e",
   "metadata": {},
   "source": [
    "## 4 Preparing the Data for DNN Training"
   ]
  },
  {
   "cell_type": "markdown",
   "id": "2685be9de4bdc285",
   "metadata": {},
   "source": "### 4.1 Target Class Definition"
  },
  {
   "cell_type": "code",
   "id": "32872e87b63c54bb",
   "metadata": {
    "ExecuteTime": {
     "end_time": "2025-05-06T09:57:10.679975Z",
     "start_time": "2025-05-06T09:57:10.676752Z"
    }
   },
   "source": [
    "phoneHMMs = np.load('lab2_models_all.npz', allow_pickle=True)['phoneHMMs'].item()"
   ],
   "outputs": [],
   "execution_count": 4
  },
  {
   "cell_type": "code",
   "id": "f8f39138eeda0edf",
   "metadata": {
    "ExecuteTime": {
     "end_time": "2025-05-06T09:57:10.726268Z",
     "start_time": "2025-05-06T09:57:10.722426Z"
    }
   },
   "source": [
    "phones = sorted(phoneHMMs.keys())\n",
    "phones"
   ],
   "outputs": [
    {
     "data": {
      "text/plain": [
       "['ah',\n",
       " 'ao',\n",
       " 'ay',\n",
       " 'eh',\n",
       " 'ey',\n",
       " 'f',\n",
       " 'ih',\n",
       " 'iy',\n",
       " 'k',\n",
       " 'n',\n",
       " 'ow',\n",
       " 'r',\n",
       " 's',\n",
       " 'sil',\n",
       " 'sp',\n",
       " 't',\n",
       " 'th',\n",
       " 'uw',\n",
       " 'v',\n",
       " 'w',\n",
       " 'z']"
      ]
     },
     "execution_count": 5,
     "metadata": {},
     "output_type": "execute_result"
    }
   ],
   "execution_count": 5
  },
  {
   "cell_type": "code",
   "id": "ff74dddd8361bb28",
   "metadata": {
    "ExecuteTime": {
     "end_time": "2025-05-06T09:57:10.780891Z",
     "start_time": "2025-05-06T09:57:10.776926Z"
    }
   },
   "source": [
    "nstates = {phone: phoneHMMs[phone]['means'].shape[0] for phone in phones}\n",
    "nstates"
   ],
   "outputs": [
    {
     "data": {
      "text/plain": [
       "{'ah': 3,\n",
       " 'ao': 3,\n",
       " 'ay': 3,\n",
       " 'eh': 3,\n",
       " 'ey': 3,\n",
       " 'f': 3,\n",
       " 'ih': 3,\n",
       " 'iy': 3,\n",
       " 'k': 3,\n",
       " 'n': 3,\n",
       " 'ow': 3,\n",
       " 'r': 3,\n",
       " 's': 3,\n",
       " 'sil': 3,\n",
       " 'sp': 1,\n",
       " 't': 3,\n",
       " 'th': 3,\n",
       " 'uw': 3,\n",
       " 'v': 3,\n",
       " 'w': 3,\n",
       " 'z': 3}"
      ]
     },
     "execution_count": 6,
     "metadata": {},
     "output_type": "execute_result"
    }
   ],
   "execution_count": 6
  },
  {
   "cell_type": "code",
   "id": "26a5042aba0e103f",
   "metadata": {
    "ExecuteTime": {
     "end_time": "2025-05-06T09:57:10.829308Z",
     "start_time": "2025-05-06T09:57:10.826023Z"
    }
   },
   "source": [
    "stateList = [ph + '_' + str(id) for ph in phones for id in range(nstates[ph])]\n",
    "stateList[:10]"
   ],
   "outputs": [
    {
     "data": {
      "text/plain": [
       "['ah_0',\n",
       " 'ah_1',\n",
       " 'ah_2',\n",
       " 'ao_0',\n",
       " 'ao_1',\n",
       " 'ao_2',\n",
       " 'ay_0',\n",
       " 'ay_1',\n",
       " 'ay_2',\n",
       " 'eh_0']"
      ]
     },
     "execution_count": 7,
     "metadata": {},
     "output_type": "execute_result"
    }
   ],
   "execution_count": 7
  },
  {
   "cell_type": "code",
   "id": "b9c4e36d4136ad93",
   "metadata": {
    "ExecuteTime": {
     "end_time": "2025-05-06T09:57:10.881445Z",
     "start_time": "2025-05-06T09:57:10.877991Z"
    }
   },
   "source": [
    "stateList.index('ay_2')"
   ],
   "outputs": [
    {
     "data": {
      "text/plain": [
       "8"
      ]
     },
     "execution_count": 8,
     "metadata": {},
     "output_type": "execute_result"
    }
   ],
   "execution_count": 8
  },
  {
   "cell_type": "markdown",
   "id": "96045ee2141e9b8d",
   "metadata": {},
   "source": "### 4.2 Forced Alignment"
  },
  {
   "cell_type": "markdown",
   "id": "7e67bac3ca1b5ed9",
   "metadata": {},
   "source": "### Inspect Example"
  },
  {
   "cell_type": "code",
   "id": "82aa1e14bf9bbbbd",
   "metadata": {
    "ExecuteTime": {
     "end_time": "2025-05-06T09:57:10.929170Z",
     "start_time": "2025-05-06T09:57:10.926660Z"
    }
   },
   "source": [
    "example = np.load('lab3_example.npz', allow_pickle=True)[\"example\"].item()"
   ],
   "outputs": [],
   "execution_count": 9
  },
  {
   "cell_type": "code",
   "id": "242e0c5af37e4e19",
   "metadata": {
    "ExecuteTime": {
     "end_time": "2025-05-06T09:57:10.981093Z",
     "start_time": "2025-05-06T09:57:10.976819Z"
    }
   },
   "source": [
    "example.keys()"
   ],
   "outputs": [
    {
     "data": {
      "text/plain": [
       "dict_keys(['filename', 'samples', 'gender', 'speaker', 'digits', 'repetition', 'lmfcc', 'wordTrans', 'phoneTrans', 'utteranceHMM', 'stateTrans', 'obsloglik', 'viterbiLoglik', 'viterbiPath', 'viterbiStateTrans'])"
      ]
     },
     "execution_count": 10,
     "metadata": {},
     "output_type": "execute_result"
    }
   ],
   "execution_count": 10
  },
  {
   "cell_type": "code",
   "id": "4be3bd15fe45890c",
   "metadata": {
    "ExecuteTime": {
     "end_time": "2025-05-06T09:57:11.035501Z",
     "start_time": "2025-05-06T09:57:11.033244Z"
    }
   },
   "source": [
    "example[\"filename\"]"
   ],
   "outputs": [
    {
     "data": {
      "text/plain": [
       "'tidigits/disc_4.1.1/tidigits/train/man/nw/z43a.wav'"
      ]
     },
     "execution_count": 11,
     "metadata": {},
     "output_type": "execute_result"
    }
   ],
   "execution_count": 11
  },
  {
   "cell_type": "code",
   "id": "97e10d520144ee6c",
   "metadata": {
    "ExecuteTime": {
     "end_time": "2025-05-06T09:57:11.154844Z",
     "start_time": "2025-05-06T09:57:11.086873Z"
    }
   },
   "source": [
    "plt.pcolormesh(example[\"lmfcc\"].T, shading='auto')"
   ],
   "outputs": [
    {
     "data": {
      "text/plain": [
       "<matplotlib.collections.QuadMesh at 0x785df91d9a80>"
      ]
     },
     "execution_count": 12,
     "metadata": {},
     "output_type": "execute_result"
    },
    {
     "data": {
      "text/plain": [
       "<Figure size 640x480 with 1 Axes>"
      ],
      "image/png": "[encoded data removed]"
     },
     "metadata": {},
     "output_type": "display_data"
    }
   ],
   "execution_count": 12
  },
  {
   "cell_type": "code",
   "id": "3fddb41d522a78d2",
   "metadata": {
    "ExecuteTime": {
     "end_time": "2025-05-06T09:57:11.231400Z",
     "start_time": "2025-05-06T09:57:11.166109Z"
    }
   },
   "source": [
    "plt.pcolormesh(example[\"obsloglik\"].T, shading='auto')"
   ],
   "outputs": [
    {
     "data": {
      "text/plain": [
       "<matplotlib.collections.QuadMesh at 0x785df87ab7c0>"
      ]
     },
     "execution_count": 13,
     "metadata": {},
     "output_type": "execute_result"
    },
    {
     "data": {
      "text/plain": [
       "<Figure size 640x480 with 1 Axes>"
      ],
      "image/png": "[encoded data removed]"
     },
     "metadata": {},
     "output_type": "display_data"
    }
   ],
   "execution_count": 13
  },
  {
   "metadata": {
    "ExecuteTime": {
     "end_time": "2025-05-06T09:57:11.242362Z",
     "start_time": "2025-05-06T09:57:11.239964Z"
    }
   },
   "cell_type": "code",
   "source": "example[\"phoneTrans\"]",
   "id": "6997ffecd6d6fc35",
   "outputs": [
    {
     "data": {
      "text/plain": [
       "['sil',\n",
       " 'z',\n",
       " 'iy',\n",
       " 'r',\n",
       " 'ow',\n",
       " 'sp',\n",
       " 'f',\n",
       " 'ao',\n",
       " 'r',\n",
       " 'sp',\n",
       " 'th',\n",
       " 'r',\n",
       " 'iy',\n",
       " 'sp',\n",
       " 'sil']"
      ]
     },
     "execution_count": 14,
     "metadata": {},
     "output_type": "execute_result"
    }
   ],
   "execution_count": 14
  },
  {
   "metadata": {
    "ExecuteTime": {
     "end_time": "2025-05-06T09:57:11.298146Z",
     "start_time": "2025-05-06T09:57:11.294999Z"
    }
   },
   "cell_type": "code",
   "source": "len(example[\"phoneTrans\"])",
   "id": "6365ec4c9b5fdc58",
   "outputs": [
    {
     "data": {
      "text/plain": [
       "15"
      ]
     },
     "execution_count": 15,
     "metadata": {},
     "output_type": "execute_result"
    }
   ],
   "execution_count": 15
  },
  {
   "metadata": {
    "ExecuteTime": {
     "end_time": "2025-05-06T09:57:11.354421Z",
     "start_time": "2025-05-06T09:57:11.350879Z"
    }
   },
   "cell_type": "code",
   "source": "example.keys()",
   "id": "311d75ff4af97975",
   "outputs": [
    {
     "data": {
      "text/plain": [
       "dict_keys(['filename', 'samples', 'gender', 'speaker', 'digits', 'repetition', 'lmfcc', 'wordTrans', 'phoneTrans', 'utteranceHMM', 'stateTrans', 'obsloglik', 'viterbiLoglik', 'viterbiPath', 'viterbiStateTrans'])"
      ]
     },
     "execution_count": 16,
     "metadata": {},
     "output_type": "execute_result"
    }
   ],
   "execution_count": 16
  },
  {
   "metadata": {
    "ExecuteTime": {
     "end_time": "2025-05-06T09:57:11.406225Z",
     "start_time": "2025-05-06T09:57:11.400804Z"
    }
   },
   "cell_type": "code",
   "source": "example[\"viterbiStateTrans\"]",
   "id": "2c2f85e26b8c0ccb",
   "outputs": [
    {
     "data": {
      "text/plain": [
       "['sil_0',\n",
       " 'sil_1',\n",
       " 'sil_1',\n",
       " 'sil_1',\n",
       " 'sil_1',\n",
       " 'sil_1',\n",
       " 'sil_1',\n",
       " 'sil_1',\n",
       " 'sil_1',\n",
       " 'sil_1',\n",
       " 'sil_1',\n",
       " 'sil_1',\n",
       " 'sil_1',\n",
       " 'sil_1',\n",
       " 'sil_1',\n",
       " 'sil_1',\n",
       " 'sil_1',\n",
       " 'sil_1',\n",
       " 'sil_1',\n",
       " 'sil_2',\n",
       " 'z_0',\n",
       " 'z_0',\n",
       " 'z_0',\n",
       " 'z_0',\n",
       " 'z_1',\n",
       " 'z_2',\n",
       " 'z_2',\n",
       " 'z_2',\n",
       " 'z_2',\n",
       " 'z_2',\n",
       " 'z_2',\n",
       " 'z_2',\n",
       " 'z_2',\n",
       " 'z_2',\n",
       " 'z_2',\n",
       " 'z_2',\n",
       " 'iy_0',\n",
       " 'iy_0',\n",
       " 'iy_0',\n",
       " 'iy_0',\n",
       " 'iy_0',\n",
       " 'iy_0',\n",
       " 'iy_0',\n",
       " 'iy_0',\n",
       " 'iy_1',\n",
       " 'iy_2',\n",
       " 'r_0',\n",
       " 'r_0',\n",
       " 'r_0',\n",
       " 'r_0',\n",
       " 'r_0',\n",
       " 'r_0',\n",
       " 'r_0',\n",
       " 'r_0',\n",
       " 'r_0',\n",
       " 'r_0',\n",
       " 'r_1',\n",
       " 'r_2',\n",
       " 'ow_0',\n",
       " 'ow_1',\n",
       " 'ow_2',\n",
       " 'ow_2',\n",
       " 'ow_2',\n",
       " 'ow_2',\n",
       " 'ow_2',\n",
       " 'ow_2',\n",
       " 'ow_2',\n",
       " 'ow_2',\n",
       " 'ow_2',\n",
       " 'f_0',\n",
       " 'f_1',\n",
       " 'f_1',\n",
       " 'f_1',\n",
       " 'f_1',\n",
       " 'f_1',\n",
       " 'f_1',\n",
       " 'f_1',\n",
       " 'f_1',\n",
       " 'f_1',\n",
       " 'f_1',\n",
       " 'f_1',\n",
       " 'f_2',\n",
       " 'ao_0',\n",
       " 'ao_1',\n",
       " 'ao_1',\n",
       " 'ao_1',\n",
       " 'ao_1',\n",
       " 'ao_1',\n",
       " 'ao_1',\n",
       " 'ao_1',\n",
       " 'ao_1',\n",
       " 'ao_1',\n",
       " 'ao_1',\n",
       " 'ao_1',\n",
       " 'ao_1',\n",
       " 'ao_1',\n",
       " 'ao_1',\n",
       " 'ao_2',\n",
       " 'ao_2',\n",
       " 'ao_2',\n",
       " 'ao_2',\n",
       " 'ao_2',\n",
       " 'ao_2',\n",
       " 'ao_2',\n",
       " 'ao_2',\n",
       " 'ao_2',\n",
       " 'ao_2',\n",
       " 'ao_2',\n",
       " 'r_0',\n",
       " 'r_0',\n",
       " 'r_0',\n",
       " 'r_1',\n",
       " 'r_2',\n",
       " 'th_0',\n",
       " 'th_0',\n",
       " 'th_0',\n",
       " 'th_0',\n",
       " 'th_0',\n",
       " 'th_0',\n",
       " 'th_0',\n",
       " 'th_0',\n",
       " 'th_0',\n",
       " 'th_0',\n",
       " 'th_1',\n",
       " 'th_1',\n",
       " 'th_1',\n",
       " 'th_2',\n",
       " 'r_0',\n",
       " 'r_0',\n",
       " 'r_0',\n",
       " 'r_0',\n",
       " 'r_0',\n",
       " 'r_0',\n",
       " 'r_0',\n",
       " 'r_0',\n",
       " 'r_0',\n",
       " 'r_1',\n",
       " 'r_2',\n",
       " 'iy_0',\n",
       " 'iy_0',\n",
       " 'iy_0',\n",
       " 'iy_0',\n",
       " 'iy_0',\n",
       " 'iy_0',\n",
       " 'iy_0',\n",
       " 'iy_0',\n",
       " 'iy_0',\n",
       " 'iy_0',\n",
       " 'iy_1',\n",
       " 'iy_1',\n",
       " 'iy_2',\n",
       " 'iy_2',\n",
       " 'iy_2',\n",
       " 'iy_2',\n",
       " 'iy_2',\n",
       " 'iy_2',\n",
       " 'iy_2',\n",
       " 'iy_2',\n",
       " 'sil_0',\n",
       " 'sil_0',\n",
       " 'sil_0',\n",
       " 'sil_0',\n",
       " 'sil_0',\n",
       " 'sil_0',\n",
       " 'sil_0',\n",
       " 'sil_0',\n",
       " 'sil_0',\n",
       " 'sil_0',\n",
       " 'sil_0',\n",
       " 'sil_0',\n",
       " 'sil_0',\n",
       " 'sil_0',\n",
       " 'sil_0',\n",
       " 'sil_0',\n",
       " 'sil_0',\n",
       " 'sil_0',\n",
       " 'sil_1',\n",
       " 'sil_2']"
      ]
     },
     "execution_count": 17,
     "metadata": {},
     "output_type": "execute_result"
    }
   ],
   "execution_count": 17
  },
  {
   "metadata": {
    "ExecuteTime": {
     "end_time": "2025-05-06T09:57:11.459268Z",
     "start_time": "2025-05-06T09:57:11.455552Z"
    }
   },
   "cell_type": "code",
   "source": "my_frames2trans(example[\"viterbiStateTrans\"], 'example.lab')",
   "id": "e6d2aa5ef44f3482",
   "outputs": [],
   "execution_count": 18
  },
  {
   "metadata": {
    "ExecuteTime": {
     "end_time": "2025-05-06T09:57:11.514237Z",
     "start_time": "2025-05-06T09:57:11.509555Z"
    }
   },
   "cell_type": "code",
   "source": "example.keys()",
   "id": "616bda1b49ec7bc5",
   "outputs": [
    {
     "data": {
      "text/plain": [
       "dict_keys(['filename', 'samples', 'gender', 'speaker', 'digits', 'repetition', 'lmfcc', 'wordTrans', 'phoneTrans', 'utteranceHMM', 'stateTrans', 'obsloglik', 'viterbiLoglik', 'viterbiPath', 'viterbiStateTrans'])"
      ]
     },
     "execution_count": 19,
     "metadata": {},
     "output_type": "execute_result"
    }
   ],
   "execution_count": 19
  },
  {
   "cell_type": "markdown",
   "id": "7783f9551d5eb1ea",
   "metadata": {},
   "source": "### Load data fram TIDIGITS"
  },
  {
   "cell_type": "code",
   "id": "749e11db069071cf",
   "metadata": {
    "ExecuteTime": {
     "end_time": "2025-05-06T09:57:11.582268Z",
     "start_time": "2025-05-06T09:57:11.569476Z"
    }
   },
   "source": [
    "filename = os.path.join(tidigits_path, \"disc_4.1.1/tidigits/train/man/nw/z43a.wav\")\n",
    "samples, samplingrate = loadAudio(filename)\n",
    "lmfcc = mfcc(samples)"
   ],
   "outputs": [],
   "execution_count": 20
  },
  {
   "metadata": {
    "ExecuteTime": {
     "end_time": "2025-05-06T09:57:11.622710Z",
     "start_time": "2025-05-06T09:57:11.618716Z"
    }
   },
   "cell_type": "code",
   "source": "np.allclose(example['samples'], samples)",
   "id": "2e5643bcdde1f53",
   "outputs": [
    {
     "data": {
      "text/plain": [
       "True"
      ]
     },
     "execution_count": 21,
     "metadata": {},
     "output_type": "execute_result"
    }
   ],
   "execution_count": 21
  },
  {
   "metadata": {
    "ExecuteTime": {
     "end_time": "2025-05-06T09:57:11.679468Z",
     "start_time": "2025-05-06T09:57:11.675661Z"
    }
   },
   "cell_type": "code",
   "source": [
    "print(\"Example LMFCC:\", example['lmfcc'].shape, np.mean(example['lmfcc']), np.std(example['lmfcc']))\n",
    "print(\"Your LMFCC   :\", lmfcc.shape, np.mean(lmfcc), np.std(lmfcc))"
   ],
   "id": "fdeb5193360d36e0",
   "outputs": [
    {
     "name": "stdout",
     "output_type": "stream",
     "text": [
      "Example LMFCC: (178, 13) 54.11437325406732 241.07017352649078\n",
      "Your LMFCC   : (178, 13) 54.11437325406732 241.07017352649078\n"
     ]
    }
   ],
   "execution_count": 22
  },
  {
   "metadata": {
    "ExecuteTime": {
     "end_time": "2025-05-06T09:57:11.731367Z",
     "start_time": "2025-05-06T09:57:11.728283Z"
    }
   },
   "cell_type": "code",
   "source": "print(np.allclose(example['lmfcc'], lmfcc))",
   "id": "e780fb9240bde6a6",
   "outputs": [
    {
     "name": "stdout",
     "output_type": "stream",
     "text": [
      "True\n"
     ]
    }
   ],
   "execution_count": 23
  },
  {
   "cell_type": "code",
   "id": "98b365af0e78b475",
   "metadata": {
    "ExecuteTime": {
     "end_time": "2025-05-06T09:57:11.898250Z",
     "start_time": "2025-05-06T09:57:11.806131Z"
    }
   },
   "source": [
    "plt.pcolormesh(lmfcc.T, shading='auto')"
   ],
   "outputs": [
    {
     "data": {
      "text/plain": [
       "<matplotlib.collections.QuadMesh at 0x785df8719cc0>"
      ]
     },
     "execution_count": 24,
     "metadata": {},
     "output_type": "execute_result"
    },
    {
     "data": {
      "text/plain": [
       "<Figure size 640x480 with 1 Axes>"
      ],
      "image/png": "[encoded data removed]"
     },
     "metadata": {},
     "output_type": "display_data"
    }
   ],
   "execution_count": 24
  },
  {
   "cell_type": "markdown",
   "id": "233134bae0eff499",
   "metadata": {},
   "source": [
    "Now, use the file name, and possibly the path2info function described in Section 3, to recover\n",
    "the sequence of digits (word level transcription) in the file"
   ]
  },
  {
   "cell_type": "code",
   "id": "b9a51c345537b8d4",
   "metadata": {
    "ExecuteTime": {
     "end_time": "2025-05-06T09:57:11.912838Z",
     "start_time": "2025-05-06T09:57:11.909865Z"
    }
   },
   "source": [
    "wordTrans = list(path2info(filename)[2])\n",
    "wordTrans"
   ],
   "outputs": [
    {
     "data": {
      "text/plain": [
       "['z', '4', '3']"
      ]
     },
     "execution_count": 25,
     "metadata": {},
     "output_type": "execute_result"
    }
   ],
   "execution_count": 25
  },
  {
   "cell_type": "code",
   "id": "ad1abcc36c942a56",
   "metadata": {
    "ExecuteTime": {
     "end_time": "2025-05-06T09:57:11.966082Z",
     "start_time": "2025-05-06T09:57:11.963998Z"
    }
   },
   "source": "phoneTrans = words2phones(wordTrans, prondict, addSilence=True, addShortPause=True)",
   "outputs": [],
   "execution_count": 26
  },
  {
   "metadata": {
    "ExecuteTime": {
     "end_time": "2025-05-06T09:57:12.016064Z",
     "start_time": "2025-05-06T09:57:12.013926Z"
    }
   },
   "cell_type": "code",
   "source": "phoneTrans == example['phoneTrans']",
   "id": "eff9e7dc01f36f5d",
   "outputs": [
    {
     "data": {
      "text/plain": [
       "True"
      ]
     },
     "execution_count": 27,
     "metadata": {},
     "output_type": "execute_result"
    }
   ],
   "execution_count": 27
  },
  {
   "metadata": {
    "ExecuteTime": {
     "end_time": "2025-05-06T09:57:12.075446Z",
     "start_time": "2025-05-06T09:57:12.072156Z"
    }
   },
   "cell_type": "code",
   "source": "len(phoneTrans)",
   "id": "7644f8c03a47da4e",
   "outputs": [
    {
     "data": {
      "text/plain": [
       "15"
      ]
     },
     "execution_count": 28,
     "metadata": {},
     "output_type": "execute_result"
    }
   ],
   "execution_count": 28
  },
  {
   "cell_type": "code",
   "id": "ddb8184d2878b908",
   "metadata": {
    "ExecuteTime": {
     "end_time": "2025-05-06T09:57:12.138943Z",
     "start_time": "2025-05-06T09:57:12.134355Z"
    }
   },
   "source": [
    "utteranceHMM = concatHMMs(phoneHMMs, phoneTrans)\n",
    "utteranceHMM.keys()"
   ],
   "outputs": [
    {
     "data": {
      "text/plain": [
       "dict_keys(['startprob', 'transmat', 'means', 'covars', 'name'])"
      ]
     },
     "execution_count": 29,
     "metadata": {},
     "output_type": "execute_result"
    }
   ],
   "execution_count": 29
  },
  {
   "metadata": {
    "ExecuteTime": {
     "end_time": "2025-05-06T09:57:12.197556Z",
     "start_time": "2025-05-06T09:57:12.195167Z"
    }
   },
   "cell_type": "code",
   "source": "example['utteranceHMM']['means'].shape",
   "id": "b12786edbde1d5f8",
   "outputs": [
    {
     "data": {
      "text/plain": [
       "(39, 13)"
      ]
     },
     "execution_count": 30,
     "metadata": {},
     "output_type": "execute_result"
    }
   ],
   "execution_count": 30
  },
  {
   "metadata": {
    "ExecuteTime": {
     "end_time": "2025-05-06T09:57:12.262708Z",
     "start_time": "2025-05-06T09:57:12.259651Z"
    }
   },
   "cell_type": "code",
   "source": "utteranceHMM['means'].shape",
   "id": "e3e911e91e11cd83",
   "outputs": [
    {
     "data": {
      "text/plain": [
       "(39, 13)"
      ]
     },
     "execution_count": 31,
     "metadata": {},
     "output_type": "execute_result"
    }
   ],
   "execution_count": 31
  },
  {
   "metadata": {
    "ExecuteTime": {
     "end_time": "2025-05-06T09:57:12.326804Z",
     "start_time": "2025-05-06T09:57:12.323469Z"
    }
   },
   "cell_type": "code",
   "source": "example['utteranceHMM']['transmat'].shape",
   "id": "7d626469cec1e7cc",
   "outputs": [
    {
     "data": {
      "text/plain": [
       "(40, 40)"
      ]
     },
     "execution_count": 32,
     "metadata": {},
     "output_type": "execute_result"
    }
   ],
   "execution_count": 32
  },
  {
   "metadata": {
    "ExecuteTime": {
     "end_time": "2025-05-06T09:57:12.394330Z",
     "start_time": "2025-05-06T09:57:12.391197Z"
    }
   },
   "cell_type": "code",
   "source": "utteranceHMM[\"transmat\"].shape",
   "id": "5526bca886e31ec3",
   "outputs": [
    {
     "data": {
      "text/plain": [
       "(40, 40)"
      ]
     },
     "execution_count": 33,
     "metadata": {},
     "output_type": "execute_result"
    }
   ],
   "execution_count": 33
  },
  {
   "metadata": {
    "ExecuteTime": {
     "end_time": "2025-05-06T09:57:12.456229Z",
     "start_time": "2025-05-06T09:57:12.453240Z"
    }
   },
   "cell_type": "code",
   "source": [
    "for i in example['utteranceHMM'].keys():\n",
    "    print(i)\n",
    "    print(np.allclose(utteranceHMM[i], example['utteranceHMM'][i]))\n",
    "    print(np.mean(utteranceHMM[i]), np.std(utteranceHMM[i]))\n",
    "    print(np.mean(example['utteranceHMM'][i]), np.std(example['utteranceHMM'][i]))"
   ],
   "id": "7e9fb5a7dc6683b9",
   "outputs": [
    {
     "name": "stdout",
     "output_type": "stream",
     "text": [
      "startprob\n",
      "True\n",
      "0.025 0.15612494995995996\n",
      "0.025 0.15612494995995996\n",
      "transmat\n",
      "True\n",
      "0.02499999972591728 0.12586619505136956\n",
      "0.02499999972591728 0.12586619505136956\n",
      "means\n",
      "True\n",
      "52.61744409964498 200.43236079453723\n",
      "52.61744409964498 200.43236079453723\n",
      "covars\n",
      "True\n",
      "20422.56236489152 13441.983589716345\n",
      "20422.56236489152 13441.983589716345\n"
     ]
    }
   ],
   "execution_count": 34
  },
  {
   "metadata": {
    "ExecuteTime": {
     "end_time": "2025-05-06T09:57:12.520055Z",
     "start_time": "2025-05-06T09:57:12.517179Z"
    }
   },
   "cell_type": "code",
   "source": [
    "import numpy as np\n",
    "\n",
    "# Assuming:\n",
    "# - `my_transmat` is your matrix\n",
    "# - `ref_transmat` is example['utteranceHMM']['transmat']\n",
    "\n",
    "# 1. Compute absolute differences\n",
    "diff_matrix = np.abs(utteranceHMM[\"transmat\"] - example['utteranceHMM']['transmat'])\n",
    "\n",
    "# 2. Get locations where the difference is significant\n",
    "threshold = 1e-6  # Tolerance for floating point differences\n",
    "diff_indices = np.argwhere(diff_matrix > threshold)\n",
    "\n",
    "# 3. Print details of the differences\n",
    "for i, j in diff_indices:\n",
    "    print(f\"Diff at ({i},{j}): yours={utteranceHMM['transmat'][i][j]:.6f}, ref={example['utteranceHMM']['transmat'][i][j]:.6f}\")\n"
   ],
   "id": "2751810a7aa7524c",
   "outputs": [],
   "execution_count": 35
  },
  {
   "cell_type": "code",
   "id": "84246560c9aa9b60",
   "metadata": {
    "ExecuteTime": {
     "end_time": "2025-05-06T09:57:12.569702Z",
     "start_time": "2025-05-06T09:57:12.566232Z"
    }
   },
   "source": [
    "stateTrans = [phone + '_' + str(stateid) for phone in phoneTrans for stateid in range(nstates[phone])]\n",
    "stateTrans"
   ],
   "outputs": [
    {
     "data": {
      "text/plain": [
       "['sil_0',\n",
       " 'sil_1',\n",
       " 'sil_2',\n",
       " 'z_0',\n",
       " 'z_1',\n",
       " 'z_2',\n",
       " 'iy_0',\n",
       " 'iy_1',\n",
       " 'iy_2',\n",
       " 'r_0',\n",
       " 'r_1',\n",
       " 'r_2',\n",
       " 'ow_0',\n",
       " 'ow_1',\n",
       " 'ow_2',\n",
       " 'sp_0',\n",
       " 'f_0',\n",
       " 'f_1',\n",
       " 'f_2',\n",
       " 'ao_0',\n",
       " 'ao_1',\n",
       " 'ao_2',\n",
       " 'r_0',\n",
       " 'r_1',\n",
       " 'r_2',\n",
       " 'sp_0',\n",
       " 'th_0',\n",
       " 'th_1',\n",
       " 'th_2',\n",
       " 'r_0',\n",
       " 'r_1',\n",
       " 'r_2',\n",
       " 'iy_0',\n",
       " 'iy_1',\n",
       " 'iy_2',\n",
       " 'sp_0',\n",
       " 'sil_0',\n",
       " 'sil_1',\n",
       " 'sil_2']"
      ]
     },
     "execution_count": 36,
     "metadata": {},
     "output_type": "execute_result"
    }
   ],
   "execution_count": 36
  },
  {
   "cell_type": "code",
   "id": "63dd82db49b7a34",
   "metadata": {
    "ExecuteTime": {
     "end_time": "2025-05-06T09:57:12.623130Z",
     "start_time": "2025-05-06T09:57:12.620091Z"
    }
   },
   "source": [
    "stateTrans[10]"
   ],
   "outputs": [
    {
     "data": {
      "text/plain": [
       "'r_1'"
      ]
     },
     "execution_count": 37,
     "metadata": {},
     "output_type": "execute_result"
    }
   ],
   "execution_count": 37
  },
  {
   "metadata": {
    "ExecuteTime": {
     "end_time": "2025-05-06T09:57:12.682888Z",
     "start_time": "2025-05-06T09:57:12.680064Z"
    }
   },
   "cell_type": "code",
   "source": "len(stateTrans)",
   "id": "d82742c1ce5dd57c",
   "outputs": [
    {
     "data": {
      "text/plain": [
       "39"
      ]
     },
     "execution_count": 38,
     "metadata": {},
     "output_type": "execute_result"
    }
   ],
   "execution_count": 38
  },
  {
   "cell_type": "code",
   "id": "b9af94a8042c5046",
   "metadata": {
    "ExecuteTime": {
     "end_time": "2025-05-06T09:57:12.746625Z",
     "start_time": "2025-05-06T09:57:12.743867Z"
    }
   },
   "source": [
    "from lab2_tools import log_multivariate_normal_density_diag\n",
    "\n",
    "obsloglik = log_multivariate_normal_density_diag(lmfcc, utteranceHMM['means'], utteranceHMM['covars'])"
   ],
   "outputs": [],
   "execution_count": 39
  },
  {
   "cell_type": "code",
   "id": "f8ee64cc335968a8",
   "metadata": {
    "ExecuteTime": {
     "end_time": "2025-05-06T09:57:12.862405Z",
     "start_time": "2025-05-06T09:57:12.798124Z"
    }
   },
   "source": [
    "plt.pcolormesh(obsloglik.T, shading='auto')"
   ],
   "outputs": [
    {
     "data": {
      "text/plain": [
       "<matplotlib.collections.QuadMesh at 0x785df8159240>"
      ]
     },
     "execution_count": 40,
     "metadata": {},
     "output_type": "execute_result"
    },
    {
     "data": {
      "text/plain": [
       "<Figure size 640x480 with 1 Axes>"
      ],
      "image/png": "[encoded data removed]"
     },
     "metadata": {},
     "output_type": "display_data"
    }
   ],
   "execution_count": 40
  },
  {
   "metadata": {
    "ExecuteTime": {
     "end_time": "2025-05-06T09:57:12.877084Z",
     "start_time": "2025-05-06T09:57:12.874400Z"
    }
   },
   "cell_type": "code",
   "source": [
    "print(np.allclose(obsloglik, example['obsloglik']))\n",
    "print(np.allclose(utteranceHMM['transmat'], example['utteranceHMM']['transmat']))\n",
    "print(np.allclose(utteranceHMM['means'], example['utteranceHMM']['means']))"
   ],
   "id": "cab9f6aea788b28d",
   "outputs": [
    {
     "name": "stdout",
     "output_type": "stream",
     "text": [
      "True\n",
      "True\n",
      "True\n"
     ]
    }
   ],
   "execution_count": 41
  },
  {
   "cell_type": "code",
   "id": "bed4042aa5216cac",
   "metadata": {
    "ExecuteTime": {
     "end_time": "2025-05-06T09:57:13.023376Z",
     "start_time": "2025-05-06T09:57:12.941430Z"
    }
   },
   "source": [
    "from lab2_proto import viterbi\n",
    "\n",
    "viterbi_loglik, viterbi_path = (\n",
    "    viterbi(obsloglik,\n",
    "            np.log(utteranceHMM['startprob']),\n",
    "            np.log(utteranceHMM['transmat']))\n",
    ")"
   ],
   "outputs": [
    {
     "name": "stderr",
     "output_type": "stream",
     "text": [
      "/tmp/ipykernel_37450/2401149911.py:5: RuntimeWarning: divide by zero encountered in log\n",
      "  np.log(utteranceHMM['startprob']),\n",
      "/tmp/ipykernel_37450/2401149911.py:6: RuntimeWarning: divide by zero encountered in log\n",
      "  np.log(utteranceHMM['transmat']))\n"
     ]
    }
   ],
   "execution_count": 42
  },
  {
   "metadata": {
    "ExecuteTime": {
     "end_time": "2025-05-06T09:57:13.093995Z",
     "start_time": "2025-05-06T09:57:13.036404Z"
    }
   },
   "cell_type": "code",
   "source": "plt.plot(np.arange(len(viterbi_path)), viterbi_path)",
   "id": "e305d05c6d0f5c46",
   "outputs": [
    {
     "data": {
      "text/plain": [
       "[<matplotlib.lines.Line2D at 0x785df8015330>]"
      ]
     },
     "execution_count": 43,
     "metadata": {},
     "output_type": "execute_result"
    },
    {
     "data": {
      "text/plain": [
       "<Figure size 640x480 with 1 Axes>"
      ],
      "image/png": "[encoded data removed]"
     },
     "metadata": {},
     "output_type": "display_data"
    }
   ],
   "execution_count": 43
  },
  {
   "metadata": {
    "ExecuteTime": {
     "end_time": "2025-05-06T09:57:13.111179Z",
     "start_time": "2025-05-06T09:57:13.108514Z"
    }
   },
   "cell_type": "code",
   "source": "example[\"viterbiPath\"] == viterbi_path",
   "id": "ff1ed3ffdc3b409f",
   "outputs": [
    {
     "data": {
      "text/plain": [
       "array([ True,  True,  True,  True,  True,  True,  True,  True,  True,\n",
       "        True,  True,  True,  True,  True,  True,  True,  True,  True,\n",
       "        True,  True,  True,  True,  True,  True,  True,  True,  True,\n",
       "        True,  True,  True,  True,  True,  True,  True,  True,  True,\n",
       "        True,  True,  True,  True,  True,  True,  True,  True,  True,\n",
       "        True,  True,  True,  True,  True,  True,  True,  True,  True,\n",
       "        True,  True,  True,  True,  True,  True,  True,  True,  True,\n",
       "        True,  True,  True,  True,  True,  True,  True,  True,  True,\n",
       "        True,  True,  True,  True,  True,  True,  True,  True,  True,\n",
       "        True,  True,  True,  True,  True,  True,  True,  True,  True,\n",
       "        True,  True,  True,  True,  True,  True,  True,  True,  True,\n",
       "        True,  True,  True,  True,  True,  True,  True,  True,  True,\n",
       "        True,  True,  True,  True,  True,  True,  True,  True,  True,\n",
       "        True,  True,  True,  True,  True,  True,  True,  True,  True,\n",
       "        True,  True,  True,  True,  True,  True,  True,  True,  True,\n",
       "        True,  True,  True,  True,  True,  True,  True,  True,  True,\n",
       "        True,  True,  True,  True,  True,  True,  True,  True,  True,\n",
       "        True,  True,  True,  True,  True,  True,  True,  True,  True,\n",
       "        True,  True,  True,  True,  True,  True,  True,  True,  True,\n",
       "        True,  True,  True,  True,  True,  True,  True])"
      ]
     },
     "execution_count": 44,
     "metadata": {},
     "output_type": "execute_result"
    }
   ],
   "execution_count": 44
  },
  {
   "cell_type": "code",
   "id": "dea7f3760e307fa0",
   "metadata": {
    "ExecuteTime": {
     "end_time": "2025-05-06T09:57:13.167648Z",
     "start_time": "2025-05-06T09:57:13.162708Z"
    }
   },
   "source": [
    "viterbiStateTrans = [stateTrans[state_id] for state_id in viterbi_path]\n",
    "viterbiStateTrans"
   ],
   "outputs": [
    {
     "data": {
      "text/plain": [
       "['sil_0',\n",
       " 'sil_1',\n",
       " 'sil_1',\n",
       " 'sil_1',\n",
       " 'sil_1',\n",
       " 'sil_1',\n",
       " 'sil_1',\n",
       " 'sil_1',\n",
       " 'sil_1',\n",
       " 'sil_1',\n",
       " 'sil_1',\n",
       " 'sil_1',\n",
       " 'sil_1',\n",
       " 'sil_1',\n",
       " 'sil_1',\n",
       " 'sil_1',\n",
       " 'sil_1',\n",
       " 'sil_1',\n",
       " 'sil_1',\n",
       " 'sil_2',\n",
       " 'z_0',\n",
       " 'z_0',\n",
       " 'z_0',\n",
       " 'z_0',\n",
       " 'z_1',\n",
       " 'z_2',\n",
       " 'z_2',\n",
       " 'z_2',\n",
       " 'z_2',\n",
       " 'z_2',\n",
       " 'z_2',\n",
       " 'z_2',\n",
       " 'z_2',\n",
       " 'z_2',\n",
       " 'z_2',\n",
       " 'z_2',\n",
       " 'iy_0',\n",
       " 'iy_0',\n",
       " 'iy_0',\n",
       " 'iy_0',\n",
       " 'iy_0',\n",
       " 'iy_0',\n",
       " 'iy_0',\n",
       " 'iy_0',\n",
       " 'iy_1',\n",
       " 'iy_2',\n",
       " 'r_0',\n",
       " 'r_0',\n",
       " 'r_0',\n",
       " 'r_0',\n",
       " 'r_0',\n",
       " 'r_0',\n",
       " 'r_0',\n",
       " 'r_0',\n",
       " 'r_0',\n",
       " 'r_0',\n",
       " 'r_1',\n",
       " 'r_2',\n",
       " 'ow_0',\n",
       " 'ow_1',\n",
       " 'ow_2',\n",
       " 'ow_2',\n",
       " 'ow_2',\n",
       " 'ow_2',\n",
       " 'ow_2',\n",
       " 'ow_2',\n",
       " 'ow_2',\n",
       " 'ow_2',\n",
       " 'ow_2',\n",
       " 'f_0',\n",
       " 'f_1',\n",
       " 'f_1',\n",
       " 'f_1',\n",
       " 'f_1',\n",
       " 'f_1',\n",
       " 'f_1',\n",
       " 'f_1',\n",
       " 'f_1',\n",
       " 'f_1',\n",
       " 'f_1',\n",
       " 'f_1',\n",
       " 'f_2',\n",
       " 'ao_0',\n",
       " 'ao_1',\n",
       " 'ao_1',\n",
       " 'ao_1',\n",
       " 'ao_1',\n",
       " 'ao_1',\n",
       " 'ao_1',\n",
       " 'ao_1',\n",
       " 'ao_1',\n",
       " 'ao_1',\n",
       " 'ao_1',\n",
       " 'ao_1',\n",
       " 'ao_1',\n",
       " 'ao_1',\n",
       " 'ao_1',\n",
       " 'ao_2',\n",
       " 'ao_2',\n",
       " 'ao_2',\n",
       " 'ao_2',\n",
       " 'ao_2',\n",
       " 'ao_2',\n",
       " 'ao_2',\n",
       " 'ao_2',\n",
       " 'ao_2',\n",
       " 'ao_2',\n",
       " 'ao_2',\n",
       " 'r_0',\n",
       " 'r_0',\n",
       " 'r_0',\n",
       " 'r_1',\n",
       " 'r_2',\n",
       " 'th_0',\n",
       " 'th_0',\n",
       " 'th_0',\n",
       " 'th_0',\n",
       " 'th_0',\n",
       " 'th_0',\n",
       " 'th_0',\n",
       " 'th_0',\n",
       " 'th_0',\n",
       " 'th_0',\n",
       " 'th_1',\n",
       " 'th_1',\n",
       " 'th_1',\n",
       " 'th_2',\n",
       " 'r_0',\n",
       " 'r_0',\n",
       " 'r_0',\n",
       " 'r_0',\n",
       " 'r_0',\n",
       " 'r_0',\n",
       " 'r_0',\n",
       " 'r_0',\n",
       " 'r_0',\n",
       " 'r_1',\n",
       " 'r_2',\n",
       " 'iy_0',\n",
       " 'iy_0',\n",
       " 'iy_0',\n",
       " 'iy_0',\n",
       " 'iy_0',\n",
       " 'iy_0',\n",
       " 'iy_0',\n",
       " 'iy_0',\n",
       " 'iy_0',\n",
       " 'iy_0',\n",
       " 'iy_1',\n",
       " 'iy_1',\n",
       " 'iy_2',\n",
       " 'iy_2',\n",
       " 'iy_2',\n",
       " 'iy_2',\n",
       " 'iy_2',\n",
       " 'iy_2',\n",
       " 'iy_2',\n",
       " 'iy_2',\n",
       " 'sil_0',\n",
       " 'sil_0',\n",
       " 'sil_0',\n",
       " 'sil_0',\n",
       " 'sil_0',\n",
       " 'sil_0',\n",
       " 'sil_0',\n",
       " 'sil_0',\n",
       " 'sil_0',\n",
       " 'sil_0',\n",
       " 'sil_0',\n",
       " 'sil_0',\n",
       " 'sil_0',\n",
       " 'sil_0',\n",
       " 'sil_0',\n",
       " 'sil_0',\n",
       " 'sil_0',\n",
       " 'sil_0',\n",
       " 'sil_1',\n",
       " 'sil_2']"
      ]
     },
     "execution_count": 45,
     "metadata": {},
     "output_type": "execute_result"
    }
   ],
   "execution_count": 45
  },
  {
   "metadata": {
    "ExecuteTime": {
     "end_time": "2025-05-06T09:57:13.218565Z",
     "start_time": "2025-05-06T09:57:13.215972Z"
    }
   },
   "cell_type": "code",
   "source": "len(viterbiStateTrans)",
   "id": "8c1b215b7d492818",
   "outputs": [
    {
     "data": {
      "text/plain": [
       "178"
      ]
     },
     "execution_count": 46,
     "metadata": {},
     "output_type": "execute_result"
    }
   ],
   "execution_count": 46
  },
  {
   "metadata": {
    "ExecuteTime": {
     "end_time": "2025-05-06T09:57:13.282385Z",
     "start_time": "2025-05-06T09:57:13.279377Z"
    }
   },
   "cell_type": "code",
   "source": [
    "from lab3_tools import frames2trans\n",
    "\n",
    "frames2trans(viterbiStateTrans, outfilename='z43a.lab')"
   ],
   "id": "4852c32a282b99b3",
   "outputs": [
    {
     "data": {
      "text/plain": [
       "'0 0.01 sil_0\\n0.01 0.19000000000000003 sil_1\\n0.19000000000000003 0.20000000000000004 sil_2\\n0.20000000000000004 0.24000000000000007 z_0\\n0.24000000000000007 0.25000000000000006 z_1\\n0.25000000000000006 0.36000000000000015 z_2\\n0.36000000000000015 0.4400000000000002 iy_0\\n0.4400000000000002 0.45000000000000023 iy_1\\n0.45000000000000023 0.46000000000000024 iy_2\\n0.46000000000000024 0.5600000000000003 r_0\\n0.5600000000000003 0.5700000000000003 r_1\\n0.5700000000000003 0.5800000000000003 r_2\\n0.5800000000000003 0.5900000000000003 ow_0\\n0.5900000000000003 0.6000000000000003 ow_1\\n0.6000000000000003 0.6900000000000004 ow_2\\n0.6900000000000004 0.7000000000000004 f_0\\n0.7000000000000004 0.8100000000000005 f_1\\n0.8100000000000005 0.8200000000000005 f_2\\n0.8200000000000005 0.8300000000000005 ao_0\\n0.8300000000000005 0.9700000000000006 ao_1\\n0.9700000000000006 1.0800000000000007 ao_2\\n1.0800000000000007 1.1100000000000008 r_0\\n1.1100000000000008 1.1200000000000008 r_1\\n1.1200000000000008 1.1300000000000008 r_2\\n1.1300000000000008 1.2300000000000009 th_0\\n1.2300000000000009 1.260000000000001 th_1\\n1.260000000000001 1.270000000000001 th_2\\n1.270000000000001 1.360000000000001 r_0\\n1.360000000000001 1.370000000000001 r_1\\n1.370000000000001 1.380000000000001 r_2\\n1.380000000000001 1.480000000000001 iy_0\\n1.480000000000001 1.500000000000001 iy_1\\n1.500000000000001 1.5800000000000012 iy_2\\n1.5800000000000012 1.7600000000000013 sil_0\\n1.7600000000000013 1.7700000000000014 sil_1\\n1.7700000000000014 1.7800000000000014 sil_2\\n'"
      ]
     },
     "execution_count": 47,
     "metadata": {},
     "output_type": "execute_result"
    }
   ],
   "execution_count": 47
  },
  {
   "metadata": {
    "ExecuteTime": {
     "end_time": "2025-05-06T09:57:13.339300Z",
     "start_time": "2025-05-06T09:57:13.337125Z"
    }
   },
   "cell_type": "code",
   "source": "my_frames2trans(viterbiStateTrans, 'z43a.lab')",
   "id": "7dcfd0d2e82961d8",
   "outputs": [],
   "execution_count": 48
  },
  {
   "metadata": {
    "ExecuteTime": {
     "end_time": "2025-05-06T12:47:57.335006Z",
     "start_time": "2025-05-06T12:47:57.147834Z"
    }
   },
   "cell_type": "code",
   "source": [
    "fa = forcedAlignment(lmfcc, phoneHMMs, phoneTrans, nstates)\n",
    "my_frames2trans(fa, outfilename='z43a.lab')"
   ],
   "id": "ba0d44b2e129bb0",
   "outputs": [],
   "execution_count": 51
  }
 ],
 "metadata": {
  "kernelspec": {
   "display_name": "Python 3 (ipykernel)",
   "language": "python",
   "name": "python3"
  },
  "language_info": {
   "codemirror_mode": {
    "name": "ipython",
    "version": 3
   },
   "file_extension": ".py",
   "mimetype": "text/x-python",
   "name": "python",
   "nbconvert_exporter": "python",
   "pygments_lexer": "ipython3",
   "version": "3.10.17"
  }
 },
 "nbformat": 4,
 "nbformat_minor": 5
}
